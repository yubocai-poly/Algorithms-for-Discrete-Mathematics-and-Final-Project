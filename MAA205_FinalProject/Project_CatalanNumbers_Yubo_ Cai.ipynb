{
 "cells": [
  {
   "cell_type": "markdown",
   "metadata": {},
   "source": [
    "<img src='./figures/logo-ecole-polytechnique-ve.jpg' style='position:absolute; top:0; right:0;' width='100px' height='' alt='' />\n",
    "\n",
    "<center>**Bachelor of Ecole Polytechnique**</center>\n",
    "<center>Computational Mathematics, year 2, semester 1</center>\n",
    "<center>Lecturer: Lucas Gerin <a href=\"mailto:lucas.gerin@polytechnique.edu\">(send mail)</a></center>\n",
    "<center>Author: Yubo Cai</center>\n",
    "\n",
    "\n",
    "# Project: Catalan numbers\n",
    "\n"
   ]
  },
  {
   "cell_type": "markdown",
   "metadata": {},
   "source": [
    "## Table of contents\n",
    "\n",
    "- [1. Computing Catalan numbers](#Computing)\n",
    "- [2. Catalan and generating functions](#CatalanGF)\n",
    "- [3. Dealing with large Catalan numbers](#Bostan)\n",
    "  * [Catalan and modulos: the Bostan Conjecture](#Bostan)\n",
    "  * [Length of Catalan numbers](#Asymptotics)\n",
    "- [4. Combinatorial interpretations of Catalan numbers](#Combinatorial)\n",
    "  * [Paths in a triangle](#Triangle)\n",
    "  * [Well-formed parentheses expressions](#Parentheses)\n",
    "  * [Binary trees](#Trees)\n"
   ]
  },
  {
   "cell_type": "code",
   "execution_count": 1,
   "metadata": {
    "ExecuteTime": {
     "end_time": "2023-01-19T10:58:31.953085Z",
     "start_time": "2023-01-19T10:58:31.933333Z"
    }
   },
   "outputs": [
    {
     "data": {
      "text/html": [
       "<link href='http://fonts.googleapis.com/css?family=Fenix' rel='stylesheet' type='text/css'>\n",
       "<link href='http://fonts.googleapis.com/css?family=Alegreya+Sans:100,300,400,500,700,800,900,100italic,300italic,400italic,500italic,700italic,800italic,900italic' rel='stylesheet' type='text/css'>\n",
       "<link href='http://fonts.googleapis.com/css?family=Source+Code+Pro:300,400' rel='stylesheet' type='text/css'>\n",
       "<link href=\"https://fonts.googleapis.com/css?family=Oswald|Raleway\" rel=\"stylesheet\" type='text/css'> \n",
       "<style>\n",
       ".prompt{\n",
       "    display: none !important;\n",
       "}\n",
       "\n",
       ".rendered_html pre {\n",
       "    border: 1px solid #f0f6f9 !important;\n",
       "}\n",
       "\n",
       ".rendered_html pre, .rendered_html code {\n",
       "    background-color: #d3d8db !important;\n",
       "    padding: 1% !important;\n",
       "    line-height: 200% !important;\n",
       "    border-radius: 10px !important;\n",
       "}\n",
       "\n",
       "div.input_area {\n",
       "    border-radius: 10px !important;\n",
       "    background-color: #e1e1e6 !important;\n",
       "}\n",
       "\n",
       "div.cell{\n",
       "        width:85% !important;\n",
       "        margin-left:5% !important;\n",
       "        /*margin-right:auto;*/\n",
       "    }\n",
       "    h1, h2, h3, h4, h5 {\n",
       "        font-family: 'Oswald', sans-serif; !important;\n",
       "        font-style: oblique !important;\n",
       "    }\n",
       "    div.text_cell_render{\n",
       "        font-family: 'Raleway', sans-serif; !important;\n",
       "        line-height: 135% !important;\n",
       "        font-size: 120% !important;\n",
       "        width:100%;/*600px;*/\n",
       "        /*margin-left:auto;*/\n",
       "        /*margin-right:auto;*/\n",
       "    }\n",
       "    .CodeMirror{\n",
       "            font-family: \"Source Code Pro\" !important;\n",
       "\t\t\tfont-size: 100% !important;\n",
       "    }\n",
       "    .text_cell_render p{\n",
       "        text-align: justify !important;\n",
       "    }\n",
       "    .text_cell_render h1 {\n",
       "        font-weight: 200 !important;\n",
       "\t\tline-height: 100% !important;\n",
       "        color:#47597A !important;\n",
       "        margin-bottom: 10.em !important;\n",
       "        margin-top: 50.em !important;\n",
       "        padding-bottom: 50.em !important;\n",
       "        padding-top: 50.em !important;\n",
       "        display: block !important;\n",
       "        font-size: 300% !important;\n",
       "        text-align: center !important;\n",
       "        border-bottom: 1px solid #47597A !important;\n",
       "        border-top: 1px solid #47597A !important;\n",
       "    }\n",
       "    .text_cell_render h2 {\n",
       "        font-weight: 200 !important;\n",
       "\tline-height: 100% !important;\n",
       "        color:#47597A !important;\n",
       "        margin-bottom: 0.5em !important;\n",
       "        margin-top: 0.5em !important;\n",
       "        display: block !important;\n",
       "        font-size: 200% !important;\n",
       "        border-bottom: 1px solid #47597A !important;\n",
       "    }\n",
       "    .text_cell_render h3 {\n",
       "        font-weight: 200 !important;\n",
       "\tline-height: 100% !important;\n",
       "        color:#47597A !important;\n",
       "        margin-bottom: 0.5em !important;\n",
       "        margin-top: 0.5em !important;\n",
       "        display: block !important;\n",
       "        font-size: 150% !important;\n",
       "    }\n",
       "    .text_cell_render h4 {\n",
       "        font-style: italic !important;\n",
       "        font-weight: bold !important;\n",
       "\tline-height: 100% !important;\n",
       "        color:#47597A !important;\n",
       "        display: block !important;\n",
       "        font-size: 100% !important;\n",
       "    }\n",
       "    .text_cell_render h5 {\n",
       "        font-weight: 200 !important;\n",
       "\tline-height: 100% !important;\n",
       "        color:#47597A !important;\n",
       "        margin-bottom: 0.5em !important;\n",
       "        margin-top: 0.5em !important;\n",
       "        display: block !important;\n",
       "        font-size: 100% !important;\n",
       "    }\n",
       "    .text_cell_render ul {\n",
       "\tlist-style-type: disc !important;\n",
       "\tline-height: 2;\n",
       "\t/*color:#47597A !important;*/\n",
       "    }\n",
       "    .warning{\n",
       "        color: rgb( 240, 20, 20 ) !important;\n",
       "        }\n",
       "    .Abstract {  \n",
       "\ttext-align: justify;\n",
       "\tbackground-color: #d6edf9;\n",
       "\tborder-left: 5px solid #47597A;\n",
       "\tpadding: 0.5em;\n",
       "\tmargin: 0  150px 0 150px;\n",
       "    }\n",
       "    .Def {    \n",
       "\tbackground-color: #d9f7d7;\n",
       "\tborder-left: 5px solid #4a7047;\n",
       "\tpadding: 0.5em;\n",
       "    }\n",
       "    .Def:before {\n",
       "\tcontent: \"Definition.\";\n",
       "\tcolor:#4a7047;\n",
       "\tfont-weight: bold;\n",
       "\tfont-style: normal;\n",
       "    }\n",
       "    .DoIt {    \n",
       "\tbackground-color: #A9F5BC;\n",
       "\tborder-left: 5px solid #0A2A12;\n",
       "\tpadding: 0.5em;\n",
       "    }\n",
       "    .DoIt:before {\n",
       "\tcontent: \"Suggestion.\";\n",
       "\tcolor:#0A2A12;\n",
       "\tfont-weight: bold;\n",
       "\tfont-style: normal;\n",
       "    }\n",
       "    .Answers {    \n",
       "\tbackground-color: #DDA0DD;\n",
       "\tborder-left: 5px solid #9932CC;\n",
       "\tpadding: 0.5em;\n",
       "    }\n",
       "    .Answers:before {\n",
       "\tcontent: \"Answers.\";\n",
       "\tcolor:#682145;\n",
       "\tfont-weight: bold;\n",
       "\tfont-style: normal;\n",
       "    }\n",
       "    .Prop {    \n",
       "\tbackground-color:#f9ecd1;\n",
       "\tborder-left: 5px solid #ba7021;\n",
       "\tpadding: 0.5em;\n",
       "    }\n",
       "   .Prop:before {\n",
       "       content: \"Further questions.\";\n",
       "       color:#ba7021;\n",
       "       font-weight: bold;\n",
       "       font-style: normal;\n",
       "    }\n",
       "   .Thm {    \n",
       "\tbackground-color:#f9ecd1;\n",
       "\tborder-left: 5px solid #ba7021;\n",
       "\tpadding: 0.5em;\n",
       "    }\n",
       "   .Thm:before {\n",
       "       content: \"Theorem.\";\n",
       "       color:#ba7021;\n",
       "       font-weight: bold;\n",
       "       font-style: normal;\n",
       "    } \n",
       "   .Algo {    \n",
       "\tbackground-color:#f9ecd1;\n",
       "\tborder-left: 5px solid #ba7021;\n",
       "\tpadding: 0.5em;\n",
       "    }\n",
       "   .Algo:before {\n",
       "       content: \"Algorithm.\";\n",
       "       color:#ba7021;\n",
       "       font-weight: bold;\n",
       "       font-style: normal;\n",
       "    }\n",
       "    .Rmk {    \n",
       "\tbackground-color: #dbf1fc;\n",
       "\tborder-left: 5px solid #385487;\n",
       "\tpadding: 0.5em;\n",
       "    }\n",
       "    .Rmk:before {\n",
       "\tcontent: \"Remark.\";\n",
       "\tcolor:#385487;\n",
       "\tfont-weight: bold;\n",
       "\tfont-style: normal;\n",
       "    }\n",
       "    .Ex {    \n",
       "\tbackground-color: #dbf1fc;\n",
       "\tborder-left: 5px solid #385487;\n",
       "\tpadding: 0.5em;\n",
       "    }\n",
       "    .Ex:before {\n",
       "\tcontent: \"Example.\";\n",
       "\tcolor:#385487;\n",
       "\tfont-weight: bold;\n",
       "\tfont-style: normal;\n",
       "    }\n",
       "\n",
       "/*    .toc-item-num {\n",
       "#        display: none;\n",
       "#    }\n",
       "*/\n",
       "    .reveal section img{\n",
       "        margin: 0px auto;\n",
       "    }\n",
       "\n",
       "    div.output_area img{\n",
       "        display: block;\n",
       "        margin: 0px auto;\n",
       "    }\n",
       "  \n",
       "</style>\n",
       "\n",
       "<script>\n",
       "MathJax.Hub.Config({\n",
       "TeX: {extensions: [\"AMSmath.js\"] },\n",
       "                tex2jax: {\n",
       "                    inlineMath: [ ['$','$'], [\"\\\\(\",\"\\\\)\"] ],\n",
       "                    displayMath: [ ['$$','$$'], [\"\\\\[\",\"\\\\]\"] ]\n",
       "                },\n",
       "                displayAlign: 'center', // Change this to 'center' to center equations.\n",
       "                \"HTML-CSS\": {\n",
       "                    styles: {'.MathJax_Display': {\"margin\": 4}}\n",
       "                }\n",
       "        });\n",
       "\n",
       "\n",
       "\n",
       "</script>\n"
      ],
      "text/plain": [
       "<IPython.core.display.HTML object>"
      ]
     },
     "execution_count": 1,
     "metadata": {},
     "output_type": "execute_result"
    }
   ],
   "source": [
    "# execute this part to modify the css style\n",
    "from IPython.core.display import HTML\n",
    "def css_styling():\n",
    "    styles = open(\"./style/customProject.css\").read()\n",
    "    return HTML(styles)\n",
    "css_styling()\n"
   ]
  },
  {
   "cell_type": "code",
   "execution_count": 2,
   "metadata": {
    "ExecuteTime": {
     "end_time": "2023-01-19T10:58:52.137356Z",
     "start_time": "2023-01-19T10:58:50.024745Z"
    }
   },
   "outputs": [],
   "source": [
    "## loading python libraries\n",
    "\n",
    "# necessary to display plots inline:\n",
    "%matplotlib inline   \n",
    "\n",
    "# load the libraries\n",
    "import matplotlib.pyplot as plt # 2D plotting library\n",
    "import numpy as np              # package for scientific computing  \n",
    "from pylab import *\n",
    "\n",
    "from math import *              # package for mathematics (pi, arctan, sqrt, factorial ...)\n",
    "import sympy as sympy             # package for symbolic computation\n",
    "from sympy import *\n"
   ]
  },
  {
   "cell_type": "markdown",
   "metadata": {},
   "source": [
    "# Please read!\n",
    "\n",
    "<br><br>\n",
    "\n",
    "<!--<div markdown=1 class=Abstract>-->\n",
    "\n",
    "## General instructions:\n",
    "\n",
    "3 Sessions:  Tuesday 3rd, Tuesday 10th, Thursday 19th.\n",
    "\n",
    "### Organization:\n",
    "\n",
    "* The project is individual.\n",
    "* The deadline is Thursday 19th at 5:35pm (no late submissions).\n",
    "* You must submit your .pynb file (and possibly a few figures in jpg or pdf if needed).\n",
    "\n",
    "### Guidelines:\n",
    "\n",
    "* The project is made of suggestions of mathematical and computational developments. Of course you don't have to solve everything to get a high grade.\n",
    "* The coherence of your project will be evaluated. It is better to treat parts of the notebook carefully than to try to collect points everywhere.\n",
    "* You can also suggest and solve your own questions, creativity will be rewarded.\n",
    "* Questions are more or less difficult. If you are stuck, you can skip a question or try to solve a simpler case.\n",
    "* Your codes must be commented. Explain what they do and why they work: every code cell in your notebook must be preceded or followed by a cell \"Answers\" which explains your results and methods.\n",
    "* Mathematical explanations are to be given in plain text, not as comments of the code. \n",
    "* Print tests of all your functions.\n",
    "* Your mathematical statements must be justified as well as possible."
   ]
  },
  {
   "cell_type": "markdown",
   "metadata": {},
   "source": [
    "Here are two cells that you can copy/paste throughout the Notebook:"
   ]
  },
  {
   "cell_type": "markdown",
   "metadata": {},
   "source": [
    "<div markdown=1 class=\"Answers\"> \n",
    "<i>Your answer.</i>"
   ]
  },
  {
   "cell_type": "markdown",
   "metadata": {},
   "source": [
    "<div markdown=1 class=\"Prop\"> \n",
    "<i>In this cell you can add your own additional questions (math or python).</i>"
   ]
  },
  {
   "cell_type": "markdown",
   "metadata": {},
   "source": [
    "<a id=\"Computing\"></a>\n",
    "#  Computing Catalan numbers"
   ]
  },
  {
   "cell_type": "markdown",
   "metadata": {},
   "source": [
    "The <a href=\"https://en.wikipedia.org/wiki/Catalan_number\">Catalan numbers</a> $c_0,c_1,c_2,\\dots$ are defined recursively as follows:\n",
    "\\begin{align*}\n",
    "c_0&=1\\\\\n",
    "c_1&=1\\\\\n",
    "c_n&=\\sum_{k=0}^{n-1} c_kc_{n-1-k}=c_0c_{n-1}+c_1c_{n-2}+\\dots +c_{n-1}c_0 \\qquad (\\text{ for }n\\geq 2). \\tag{$\\star$}\n",
    "\\end{align*}\n",
    "For example,\n",
    "\\begin{align*}\n",
    "c_2&=c_0c_1+c_1c_0=1\\times 1+1\\times 1=2,\\\\\n",
    "c_3&=c_0c_2+c_1c_1+c_2c_0=1\\times 2+1\\times 1+2\\times 1=5,\\\\\n",
    "\\dots\n",
    "\\end{align*}\n"
   ]
  },
  {
   "cell_type": "markdown",
   "metadata": {},
   "source": [
    "<div markdown=1 class=\"DoIt\"> \n",
    "\n",
    "1. Write a recursive function `CatalanRecursive(n)` which returns the $n$-th Catalan number.\n",
    "2. Write a non recursive function `CatalanNotRecursive(n)` which returns the $n$-th Catalan number.<br>\n",
    "<i>(It means that you will also use recursive formula ($\\star$) but your function `CatalanNotRecursive(n)` should not call itself.)</i>"
   ]
  },
  {
   "cell_type": "code",
   "execution_count": 5,
   "metadata": {
    "ExecuteTime": {
     "end_time": "2023-01-19T11:07:50.266534Z",
     "start_time": "2023-01-19T11:07:50.247525Z"
    }
   },
   "outputs": [
    {
     "name": "stdout",
     "output_type": "stream",
     "text": [
      "--------- Question 3.1 ----------\n",
      "The first ten Catalan numbers with recursive method are  [1, 1, 2, 5, 14, 42, 132, 429, 1430, 4862]\n",
      "--------- Question 3.2 ----------\n",
      "The first ten Catalan numbers with nonrecursive method are  [1, 1, 2, 5, 14, 42, 132, 429, 1430, 4862]\n"
     ]
    }
   ],
   "source": [
    "# Questions 3.1 - Recursive implementation of Catalan numbers\n",
    "def CatalanRecursive(n):\n",
    "    if n == 0:\n",
    "        return 1\n",
    "    if n == 1:\n",
    "        return 1\n",
    "    else:\n",
    "        Cn = 0\n",
    "        for i in range(0, n):\n",
    "            Cn += CatalanRecursive(i) * CatalanRecursive(n - 1 - i)\n",
    "\n",
    "    return Cn\n",
    "\n",
    "\n",
    "# Questions 3.2 - NonRecursive implementation of Catalan numbers\n",
    "def CatalanNonRecursive(n):\n",
    "    if n == 0:\n",
    "        return 1\n",
    "    if n == 1:\n",
    "        return 1\n",
    "    C = [0] * (n + 1)\n",
    "    C[0] = 1\n",
    "    C[1] = 1\n",
    "    for i in range(2, n + 1):\n",
    "        C[i] = 0\n",
    "        for j in range(0, i):\n",
    "            C[i] += C[j] * C[i - j - 1]\n",
    "\n",
    "    return C[n]\n",
    "\n",
    "\n",
    "# Test of Question 3.1\n",
    "print(\"--------- Question 3.1 ----------\")\n",
    "print(\"The first ten Catalan numbers with recursive method are \",\n",
    "      [CatalanRecursive(i) for i in range(10)])\n",
    "\n",
    "# Test of Question 3.2\n",
    "print(\"--------- Question 3.2 ----------\")\n",
    "print(\"The first ten Catalan numbers with nonrecursive method are \",\n",
    "      [CatalanNonRecursive(i) for i in range(10)])"
   ]
  },
  {
   "cell_type": "markdown",
   "metadata": {},
   "source": [
    "<div markdown=1 class=\"DoIt\"> \n",
    "\n",
    "Compare the execution times of your different functions computing the Catalan numbers (say, for $1\\leq n\\leq 15$).<br>\n",
    "You can import the `time` library:\n",
    "```python\n",
    "import time\n",
    "```\n",
    "In order to estimate the running time of some operation Test(), the syntax is\n",
    "```\n",
    "t1=time.process_time()\n",
    "Test()\n",
    "t2=time.process_time()\n",
    "print(t2-t1)\n",
    "```"
   ]
  },
  {
   "cell_type": "code",
   "execution_count": 7,
   "metadata": {
    "ExecuteTime": {
     "end_time": "2023-01-19T11:08:30.408231Z",
     "start_time": "2023-01-19T11:08:27.966896Z"
    }
   },
   "outputs": [
    {
     "data": {
      "image/png": "[encoded data removed]",
      "text/plain": [
       "<Figure size 720x504 with 1 Axes>"
      ]
     },
     "metadata": {
      "needs_background": "light"
     },
     "output_type": "display_data"
    }
   ],
   "source": [
    "import time\n",
    "\n",
    "# initialize the lists\n",
    "RunningTimeRecursive = []\n",
    "RunningTimeNonRecursive = []\n",
    "\n",
    "for i in range(1, 16):\n",
    "    t1 = time.process_time()\n",
    "    CatalanRecursive(i)\n",
    "    t2 = time.process_time()\n",
    "    RunningTimeRecursive.append(t2 - t1)\n",
    "\n",
    "    t3 = time.process_time()\n",
    "    CatalanNonRecursive(i)\n",
    "    t4 = time.process_time()\n",
    "    RunningTimeNonRecursive.append(t4 - t3)\n",
    "\n",
    "# plot the results\n",
    "N = [i for i in range(1, 16)]\n",
    "plt.figure(figsize=(10, 7))\n",
    "plt.plot(N, RunningTimeRecursive, 'o-', label='Recursive')\n",
    "plt.plot(N, RunningTimeNonRecursive, 'o-', label='Non_Recursive')\n",
    "plt.legend()\n",
    "plt.title(\"Execution Time of recursive vs non recursive function\")\n",
    "plt.xlabel(\"N\")\n",
    "plt.ylabel(\"Time\")\n",
    "plt.show()\n"
   ]
  },
  {
   "cell_type": "markdown",
   "metadata": {},
   "source": [
    "<div markdown=1 class=\"Answers\"> \n",
    "\n",
    "From the graph that we plot, we can see that the **recursive function is much slower than the non recursive one**. From $n=10$ the recursive function takes much more time than the non recursive one and **increases exponentially**. This is due to in the computation of $c_{n}$, the recursive function calls itself too much time with **repeated computation**. However, in the non recursive function we use list to store the values of $c_{n}$ and we don't need to compute them again."
   ]
  },
  {
   "cell_type": "markdown",
   "metadata": {},
   "source": [
    "<div markdown=1 class=\"Rmk\"><a id=\"EquationE\"></a> \n",
    "It can be proved that for every $n$\n",
    "$$\n",
    "c_{n}=\\frac{1}{n+1}\\binom{2n}{n}. \\tag{E}\n",
    "$$\n",
    "You may try to use this formula to write another non-recursive function which returns $c_n$. Yet the formula (E) will not be useful for the rest of the project."
   ]
  },
  {
   "cell_type": "code",
   "execution_count": 9,
   "metadata": {
    "ExecuteTime": {
     "end_time": "2023-01-19T11:08:50.165363Z",
     "start_time": "2023-01-19T11:08:50.158901Z"
    }
   },
   "outputs": [
    {
     "name": "stdout",
     "output_type": "stream",
     "text": [
      "--------- Question 3.3 ----------\n",
      "The first ten Catalan numbers with closed form are  [1, 1, 2, 5, 14, 42, 132, 429, 1430, 4862]\n"
     ]
    }
   ],
   "source": [
    "import math\n",
    "\n",
    "\n",
    "def CatalanClosedForm(n):\n",
    "    return int(\n",
    "        (math.factorial(2 * n)) / (math.factorial(n + 1) * math.factorial(n)))\n",
    "\n",
    "\n",
    "# Test of Question 3.3\n",
    "print(\"--------- Question 3.3 ----------\")\n",
    "print(\"The first ten Catalan numbers with closed form are \",\n",
    "      [CatalanClosedForm(i) for i in range(10)])\n"
   ]
  },
  {
   "cell_type": "markdown",
   "metadata": {},
   "source": [
    "<div markdown=1 class=\"Answers\"> \n",
    "\n",
    "From a simple computation we have for every $n$ that\n",
    "$$\n",
    "c_{n}=\\frac{1}{n+1}\\binom{2n}{n}=\\frac{(2n)!}{(n+1)!n!}\n",
    "$$\n",
    "Then we can deduce from this function into the `Python` code."
   ]
  },
  {
   "cell_type": "markdown",
   "metadata": {},
   "source": [
    "<a id=\"CatalanGF\"></a>\n",
    "# Catalan and generating functions\n",
    "\n",
    "Let \n",
    "$$\n",
    "\\mathcal{C}(x)=\\sum_{n\\geq 0}c_n x^n=1+x+2x^2+5x^3+\\dots\n",
    "$$\n",
    "denote the generating function of the Catalan numbers."
   ]
  },
  {
   "cell_type": "markdown",
   "metadata": {},
   "source": [
    "<div markdown=1 class=\"DoIt\"> \n",
    "\n",
    "1. **(Theory)** Use the recursive formula [($\\star$)](#Computing) to prove that $\\mathcal{C}(x)$ is a solution of the following equation of degree two: <br>\n",
    "$$\n",
    "\\mathcal{C}(x)=1+x\\mathcal{C}(x)^2. \n",
    "$$\n",
    "<br>\n",
    "(In this equation, $\\mathcal{C}(x)$ is the unknown and $x$ is a parameter.)\n",
    "2. Deduce a formula for $\\mathcal{C}(x)$. What is the radius of convergence?"
   ]
  },
  {
   "cell_type": "markdown",
   "metadata": {},
   "source": [
    "<div markdown=1 class=\"Answers\"> 2.1\n",
    "\n",
    "From the equation $\\mathcal{C}(x)=1+x\\mathcal{C}(x)^2$ we have\n",
    "$$\n",
    "\\mathcal{C}(x)=1+x\\mathcal{C}(x)^2 \\Rightarrow \\frac{\\mathcal{C}(x)-1}{x}=\\mathcal{C}(x)^2\n",
    "$$\n",
    "Then we try to prove the **LHS** equal to **RHS**. \n",
    "\n",
    "For **LHS** we have \n",
    "$$\n",
    "\\begin{aligned}\n",
    "\\frac{\\mathcal{C}(x)-1}{x} &= \\frac{\\sum_{n\\geq 1}c_n x^n}{x}\\\\\n",
    "& = {\\sum_{n\\geq 0}c_{n+1} x^{n}}\n",
    "\\end{aligned}\n",
    "$$\n",
    "\n",
    "For **RHS**, we apply we got\n",
    "$$\n",
    "\\begin{aligned}\n",
    "\\mathcal{C}(x)^{2} &= (\\sum_{n\\geq 0}c_n x^n) ^{2}\\\\\n",
    "&= \\mathcal\\sum_{n\\geq 0}(\\sum_{k=0}^{n} c_{k}c_{n-k}) x^{n} \\\\\n",
    "&= \\mathcal\\sum_{n\\geq 0} c_{n+1} x^n \\quad (\\text{By Definition})\n",
    "\\end{aligned}\n",
    "$$\n",
    "\n",
    "Therefore we have\n",
    "$$\n",
    "\\mathcal{C}(x)^{2} = \\mathcal\\sum_{n\\geq 0} c_{n+1} x^n = \\frac{\\mathcal{C}(x)-1}{x}\n",
    "$$\n",
    "Then we prove that $\\mathcal{C}(x)$ is a solution for the equation of \n",
    "$$\n",
    "\\mathcal{C}(x)=1+x\\mathcal{C}(x)^2\n",
    "$$"
   ]
  },
  {
   "cell_type": "markdown",
   "metadata": {},
   "source": [
    "<div markdown=1 class=\"Prop\"> \n",
    "\n",
    "We can deduce the equation of degree two for $\\mathcal{C}(x)=1+x\\mathcal{C}(x)^2$."
   ]
  },
  {
   "cell_type": "markdown",
   "metadata": {},
   "source": [
    "<div markdown=1 class=\"Answers\"> Further Questions\n",
    "\n",
    "We use the ordinary generating function for the Catalan numbers, we have\n",
    "$$\n",
    "\\mathcal{C}(x)=\\sum_{n\\ge 0}c_nx^n=\\sum_{n\\ge 0}\\sum_{k=0}^{n-1}c_kc_{n-1-k}x^n\n",
    "$$\n",
    "Since we know $C_{0} = 1 $ , we have\n",
    "$$\n",
    "\\begin{aligned}\n",
    "\\mathcal{C}(x)&=\\sum_{n\\ge 0}\\sum_{k=0}^{n-1}c_kc_{n-1-k}x^n\\\\\n",
    "&=1+\\sum_{n\\ge 1}\\sum_{k=0}^{n-1}c_kc_{n-1-k}x^n\\\\\n",
    "&=1+x\\sum_{n\\ge 0}\\sum_{k=0}^nc_kc_{n-k}x^n\\\\\n",
    "&=1+x\\left(\\sum_{n\\ge 0}c_nx^n\\right)^2\\\\\n",
    "&=1+x\\mathcal{C}(x)^2\n",
    "\\end{aligned}\n",
    "$$\n",
    "Therefore, we got \n",
    "$$\n",
    "\\mathcal{C}(x)=1+x\\mathcal{C}(x)^2\n",
    "$$"
   ]
  },
  {
   "cell_type": "code",
   "execution_count": 10,
   "metadata": {
    "ExecuteTime": {
     "end_time": "2023-01-19T11:08:54.642990Z",
     "start_time": "2023-01-19T11:08:53.780006Z"
    }
   },
   "outputs": [
    {
     "name": "stdout",
     "output_type": "stream",
     "text": [
      "--------- Question 4.2 ----------\n",
      "The solution of the equation in is \n"
     ]
    },
    {
     "data": {
      "text/latex": [
       "$\\displaystyle \\frac{1 - \\sqrt{1 - 4 x}}{2 x}$"
      ],
      "text/plain": [
       "(1 - sqrt(1 - 4*x))/(2*x)"
      ]
     },
     "metadata": {},
     "output_type": "display_data"
    },
    {
     "data": {
      "text/latex": [
       "$\\displaystyle \\frac{\\sqrt{1 - 4 x} + 1}{2 x}$"
      ],
      "text/plain": [
       "(sqrt(1 - 4*x) + 1)/(2*x)"
      ]
     },
     "metadata": {},
     "output_type": "display_data"
    },
    {
     "name": "stdout",
     "output_type": "stream",
     "text": [
      "The solution of the equation in Latex is  \\frac{1 - \\sqrt{1 - 4 x}}{2 x} \\frac{\\sqrt{1 - 4 x} + 1}{2 x}\n"
     ]
    }
   ],
   "source": [
    "# Questions 4.2 - Computation with sympy of the equation\n",
    "x = Symbol('x')\n",
    "c = Symbol('c')\n",
    "solution = solve(c - 1 - x * c**2, c)\n",
    "\n",
    "# display the solution in latex\n",
    "print(\"--------- Question 4.2 ----------\")\n",
    "print(\"The solution of the equation in is \")\n",
    "display(solution[0]), display(solution[1])\n",
    "print(\"The solution of the equation in Latex is \", (latex(solution[0])),\n",
    "      latex(solution[1]))\n"
   ]
  },
  {
   "cell_type": "markdown",
   "metadata": {
    "slideshow": {
     "slide_type": "slide"
    }
   },
   "source": [
    "<div markdown=1 class=\"Answers\"> 2.2\n",
    "\n",
    "We use `sympy` to solve the equation $\\mathcal{C}(x)=1+x\\mathcal{C}(x)^2$ and we get\n",
    "$$\n",
    "\\mathcal{C}_{1}(x)= \\frac{1 - \\sqrt{1 - 4 x}}{2 x} \\quad \\text{and} \\quad \\mathcal{C}_{2}(x)= \\frac{1 + \\sqrt{1 - 4 x}}{2 x}\n",
    "$$\n",
    "From the two possibilities, the $\\mathcal{C}_{1}(x)$ must be chosen because only the choice of the first gives\n",
    "$$\n",
    "C_0=\\lim _{x \\rightarrow 0} \\mathcal{C}_{1}(x)=1\n",
    "$$\n",
    "Therefore we have $\\mathcal{C}(x)=\\frac{1 - \\sqrt{1 - 4 x}}{2 x}$\n",
    "\n",
    "Then we compute the radius of convergence of $\\mathcal{C}(x)$. For the definition of [radius of convergence](https://en.wikipedia.org/wiki/Radius_of_convergence) from Wiki page. We use the expression of $\\mathcal{C}(x)$ in power series that\n",
    "$$\n",
    "\\mathcal{C}(x)= \\frac{1 - \\sqrt{1 - 4 x}}{2 x}= \\sum_{n\\geq 0}c_n x^n\n",
    "$$\n",
    "Base on [D'Alembert's test](https://en.wikipedia.org/wiki/Ratio_test), for radius of convergence $R$ we compute $\\lim _{n \\rightarrow \\infty}\\left|\\frac{c_{n+1}}{c_n}\\right|=\\rho$ for $\\sum_{n\\geq 0}c_n x^n$\n",
    "$$\n",
    "\\begin{aligned}\n",
    "\\rho &= \\lim_{n \\rightarrow \\infty}|\\frac{c_{n+1}}{c_n}|\\\\\n",
    "&= \\lim_{n \\rightarrow \\infty} \\left| \\frac{\\frac{1}{n+2} \\binom{2n+2}{n+2}}{\\frac{1}{n+1} \\binom{2n}{n}} \\right|\\\\\n",
    "&= \\lim_{n \\rightarrow \\infty} \\left|\\frac{4n+4}{n+2} \\right|\\\\\n",
    "&= \\lim_{n \\rightarrow \\infty} \\left|4-\\frac{4}{n+2} \\right|\\\\\n",
    "&= 4\n",
    "\\end{aligned}\n",
    "$$\n",
    "Since $\\rho \\neq 0$, then we have the radius of convergence $R=\\frac{1}{\\rho}=\\frac{1}{4}$"
   ]
  },
  {
   "cell_type": "markdown",
   "metadata": {},
   "source": [
    "<div markdown=1 class=\"Prop\"> \n",
    "\n",
    "Program computes the **Catalan numbers** using formula of $c_{n}=\\frac{1}{n+1}\\binom{2n}{n}=\\frac{(2n)!}{(n+1)!n!}$ and compare the complexity of the functions."
   ]
  },
  {
   "cell_type": "code",
   "execution_count": 14,
   "metadata": {
    "ExecuteTime": {
     "end_time": "2023-01-19T11:10:18.088745Z",
     "start_time": "2023-01-19T11:10:17.433062Z"
    }
   },
   "outputs": [
    {
     "data": {
      "image/png": "[encoded data removed]",
      "text/plain": [
       "<Figure size 720x504 with 1 Axes>"
      ]
     },
     "metadata": {
      "needs_background": "light"
     },
     "output_type": "display_data"
    }
   ],
   "source": [
    "# Testing the running time of different methods\n",
    "RunningTimeBinom = []\n",
    "\n",
    "for n in range(1, 16):\n",
    "    t1 = time.process_time()\n",
    "    CatalanClosedForm(n)\n",
    "    t2 = time.process_time()\n",
    "    RunningTimeBinom.append(t2 - t1)\n",
    "\n",
    "    \n",
    "# plot the results\n",
    "N = [i for i in range(1, 16)]\n",
    "plt.figure(figsize=(10, 7))\n",
    "plt.plot(N, RunningTimeRecursive, 'o-', label='Recursive')\n",
    "plt.plot(N, RunningTimeNonRecursive, 'o-', label='Non_Recursive')\n",
    "plt.plot(N, RunningTimeBinom, 'o-', label='Binomial Formula')\n",
    "plt.legend()\n",
    "plt.title(\"Execution Time of all the methods\")\n",
    "plt.xlabel(\"N\")\n",
    "plt.ylabel(\"Time\")\n",
    "plt.show()"
   ]
  },
  {
   "cell_type": "code",
   "execution_count": 15,
   "metadata": {
    "ExecuteTime": {
     "end_time": "2023-01-19T11:10:20.733710Z",
     "start_time": "2023-01-19T11:10:20.544952Z"
    }
   },
   "outputs": [
    {
     "data": {
      "image/png": "[encoded data removed]",
      "text/plain": [
       "<Figure size 720x504 with 1 Axes>"
      ]
     },
     "metadata": {
      "needs_background": "light"
     },
     "output_type": "display_data"
    }
   ],
   "source": [
    "# Compare without the recursive method\n",
    "plt.figure(figsize=(10, 7))\n",
    "plt.plot(N, RunningTimeNonRecursive, 'o-', label='Non_Recursive')\n",
    "plt.plot(N, RunningTimeBinom, 'o-', label='Binomial Formula')\n",
    "plt.legend()\n",
    "plt.title(\"Execution Time of all the methods without recursive method\")\n",
    "plt.xlabel(\"N\")\n",
    "plt.ylabel(\"Time\")\n",
    "plt.show()"
   ]
  },
  {
   "cell_type": "markdown",
   "metadata": {},
   "source": [
    "<div markdown=1 class=\"Answers\"> \n",
    "\n",
    "From the two graph we can see that the formula of $\\mathcal{c}_{n}=\\frac{1}{n+1}\\binom{2n}{n}$ has the highest computation efficiency. However, the non-recursive method has more execution time than the method above, compare with recursive method the complexity is still much better since the execution time is in the level of $10^{-5}sec$."
   ]
  },
  {
   "cell_type": "markdown",
   "metadata": {},
   "source": [
    "<div markdown=1 class=\"Prop\"> \n",
    "\n",
    "We can prove the expression of \n",
    "$$\n",
    "c_{n}=\\frac{1}{n+1}\\binom{2n}{n}=\\frac{(2n)!}{(n+1)!n!}\n",
    "$$\n",
    "with $\\mathcal{C}(x)= \\frac{1 - \\sqrt{1 - 4 x}}{2 x}= \\sum_{n\\geq 0}c_n x^n$"
   ]
  },
  {
   "cell_type": "markdown",
   "metadata": {},
   "source": [
    "<div markdown=1 class=\"Answers\"> \n",
    "\n",
    "For power series we have\n",
    "$$\n",
    "\\sqrt{1+y}=\\sum_{n=0}^{\\infty}\\left(\\begin{array}{c}\n",
    "\\frac{1}{2} \\\\\n",
    "n\n",
    "\\end{array}\\right) y^n=\\sum_{n=0}^{\\infty} \\frac{(-1)^{n+1}}{4^n(2 n-1)}\\left(\\begin{array}{c}\n",
    "2 n \\\\\n",
    "n\n",
    "\\end{array}\\right) y^n\n",
    "$$\n",
    "We denote that $y=-4x$ we got\n",
    "$$\n",
    "\\sqrt{1-4 x}=1-\\sum_{n=1}^{\\infty} \\frac{1}{2 n-1}\\left(\\begin{array}{c}\n",
    "2 n \\\\\n",
    "n\n",
    "\\end{array}\\right) x^n\n",
    "$$\n",
    "Therefore we got\n",
    "$$\n",
    "\\mathcal{C}(x)= \\frac{1 - \\sqrt{1 - 4 x}}{2 x} = \\sum_{n=1}^{\\infty} \\frac{1}{2(2 n-1)}\\left(\\begin{array}{c}\n",
    "2 n \\\\\n",
    "n\n",
    "\\end{array}\\right) x^{n-1} = \\sum_{n\\geq 0}c_n x^n\n",
    "$$\n",
    "We can deduce that\n",
    "$$\n",
    "c_{n}=\\frac{1}{2(2n+1)} \\binom{2n+2}{n+1}=\\frac{1}{n+1} \\binom{2n}{n}\n",
    "$$"
   ]
  },
  {
   "cell_type": "markdown",
   "metadata": {},
   "source": [
    "<a id=\"GeneratingFunctions\"></a>\n",
    "## Tutorial: how to manipulate Generating Functions with SymPy\n",
    "\n",
    "We work out with the example of \n",
    "$$\n",
    "f(x)=\\frac{1}{1-2x}=1+2x+4x^2+8x^3+16x^4+ \\dots\n",
    "$$\n",
    "We first introduce variable $x$ and function $f$ as follows:"
   ]
  },
  {
   "cell_type": "code",
   "execution_count": 16,
   "metadata": {
    "ExecuteTime": {
     "end_time": "2023-01-19T11:10:40.229201Z",
     "start_time": "2023-01-19T11:10:40.107298Z"
    }
   },
   "outputs": [
    {
     "name": "stdout",
     "output_type": "stream",
     "text": [
      "f = 1/(1 - 2*x)\n",
      "series expansion of f at 0 and of order 10 is: 1 + 2*x + 4*x**2 + 8*x**3 + 16*x**4 + 32*x**5 + 64*x**6 + 128*x**7 + 256*x**8 + 512*x**9 + O(x**10)\n"
     ]
    },
    {
     "data": {
      "text/latex": [
       "$\\displaystyle 1 + 2 x + 4 x^{2} + 8 x^{3} + 16 x^{4} + 32 x^{5} + 64 x^{6} + 128 x^{7} + 256 x^{8} + 512 x^{9} + O\\left(x^{10}\\right)$"
      ],
      "text/plain": [
       "1 + 2*x + 4*x**2 + 8*x**3 + 16*x**4 + 32*x**5 + 64*x**6 + 128*x**7 + 256*x**8 + 512*x**9 + O(x**10)"
      ]
     },
     "metadata": {},
     "output_type": "display_data"
    }
   ],
   "source": [
    "x=var('x')\n",
    "f=(1/(1-2*x))\n",
    "\n",
    "print('f = '+str(f))\n",
    "print('series expansion of f at 0 and of order 10 is: '+str(f.series(x,0,10)))\n",
    "display(f.series(x,0,10))\n"
   ]
  },
  {
   "cell_type": "markdown",
   "metadata": {},
   "source": [
    "One can extract coefficient $n$ as follows:\n",
    "* $f$ has to be truncated at order $k$ (for some $k>n$) with `f.series(x,0,k)`\n",
    "* the $n$-th coefficient is then extracted by `f.coeff(x**n)`"
   ]
  },
  {
   "cell_type": "code",
   "execution_count": 17,
   "metadata": {
    "ExecuteTime": {
     "end_time": "2023-01-19T11:11:37.313549Z",
     "start_time": "2023-01-19T11:11:37.263030Z"
    }
   },
   "outputs": [
    {
     "name": "stdout",
     "output_type": "stream",
     "text": [
      "Truncation of f is 1 + 2*x + 4*x**2 + 8*x**3 + 16*x**4 + 32*x**5 + 64*x**6 + 128*x**7 + O(x**8)\n",
      "6th coefficient is: 64\n"
     ]
    },
    {
     "data": {
      "text/latex": [
       "$\\displaystyle 1 + 2 x + 4 x^{2} + 8 x^{3} + 16 x^{4} + 32 x^{5} + 64 x^{6} + 128 x^{7} + O\\left(x^{8}\\right)$"
      ],
      "text/plain": [
       "1 + 2*x + 4*x**2 + 8*x**3 + 16*x**4 + 32*x**5 + 64*x**6 + 128*x**7 + O(x**8)"
      ]
     },
     "metadata": {},
     "output_type": "display_data"
    }
   ],
   "source": [
    "f_truncated = f.series(x,0,8)\n",
    "print('Truncation of f is '+str(f_truncated))\n",
    "n=6\n",
    "nthcoefficient=f_truncated.coeff(x**n)\n",
    "print(str(n)+'th coefficient is: '+str(nthcoefficient))\n",
    "display(f_truncated)\n"
   ]
  },
  {
   "cell_type": "markdown",
   "metadata": {},
   "source": [
    "<div markdown=1 class=\"DoIt\"> Use SymPy to write another programm which computes the Catalan numbers using $\\mathcal{C}(x)$, and compare the execution times with the functions of the first part of the Project."
   ]
  },
  {
   "cell_type": "code",
   "execution_count": 18,
   "metadata": {
    "ExecuteTime": {
     "end_time": "2023-01-19T11:11:42.075071Z",
     "start_time": "2023-01-19T11:11:40.681783Z"
    }
   },
   "outputs": [
    {
     "name": "stdout",
     "output_type": "stream",
     "text": [
      "--------- Question 4.1.1 ----------\n",
      "The first ten Catalan numbers with Taylor Expansion are  [1, 1, 2, 5, 14, 42, 132, 429, 1430, 4862]\n"
     ]
    }
   ],
   "source": [
    "# We compute C(x) with Taylor Expansion\n",
    "x = var('x')\n",
    "f = (1 - sqrt(1 - 4 * x)) / (2 * x)\n",
    "\n",
    "\n",
    "def CatalanTaylorExpansion(n):\n",
    "    return f.series(x, 0, n).coeff(x**(n - 1))\n",
    "\n",
    "\n",
    "print(\"--------- Question 4.1.1 ----------\")\n",
    "lis = [CatalanTaylorExpansion(i) for i in range(11)]\n",
    "lis[1] = 1\n",
    "print(\"The first ten Catalan numbers with Taylor Expansion are \", lis[1:])\n"
   ]
  },
  {
   "cell_type": "code",
   "execution_count": 21,
   "metadata": {
    "ExecuteTime": {
     "end_time": "2023-01-19T11:11:53.468620Z",
     "start_time": "2023-01-19T11:11:51.965667Z"
    }
   },
   "outputs": [
    {
     "data": {
      "image/png": "[encoded data removed]",
      "text/plain": [
       "<Figure size 720x504 with 1 Axes>"
      ]
     },
     "metadata": {
      "needs_background": "light"
     },
     "output_type": "display_data"
    }
   ],
   "source": [
    "# Testing the running time of Taylor Expansion\n",
    "RunningTimeTaylor = []\n",
    "\n",
    "for i in range(1, 16):\n",
    "    t1 = time.process_time()\n",
    "    CatalanTaylorExpansion(i)\n",
    "    t2 = time.process_time()\n",
    "    RunningTimeTaylor.append(t2 - t1)\n",
    "\n",
    "# plot the results\n",
    "N = [i for i in range(1, 16)]\n",
    "plt.figure(figsize=(10, 7))\n",
    "plt.plot(N, RunningTimeRecursive, 'o-', label='Recursive')\n",
    "plt.plot(N, RunningTimeNonRecursive, 'o-', label='Non_Recursive')\n",
    "plt.plot(N, RunningTimeBinom, 'o-', label='Binomial Formula')\n",
    "plt.plot(N, RunningTimeTaylor, 'o-', label='Taylor Expansion')\n",
    "plt.legend()\n",
    "plt.title(\"Execution Time of all the methods\")\n",
    "plt.xlabel(\"N\")\n",
    "plt.ylabel(\"Time\")\n",
    "plt.show()"
   ]
  },
  {
   "cell_type": "code",
   "execution_count": 22,
   "metadata": {
    "ExecuteTime": {
     "end_time": "2023-01-19T11:11:58.856600Z",
     "start_time": "2023-01-19T11:11:58.673238Z"
    }
   },
   "outputs": [
    {
     "data": {
      "image/png": "[encoded data removed]",
      "text/plain": [
       "<Figure size 720x504 with 1 Axes>"
      ]
     },
     "metadata": {
      "needs_background": "light"
     },
     "output_type": "display_data"
    }
   ],
   "source": [
    "plt.figure(figsize=(10, 7))\n",
    "plt.plot(N, RunningTimeNonRecursive, 'o-', label='Non_Recursive')\n",
    "plt.plot(N, RunningTimeBinom, 'o-', label='Binomial Formula')\n",
    "plt.plot(N, RunningTimeTaylor, 'o-', label='Taylor Expansion')\n",
    "plt.legend()\n",
    "plt.title(\"Execution Time of all the methods\")\n",
    "plt.xlabel(\"N\")\n",
    "plt.ylabel(\"Time\")\n",
    "plt.show()"
   ]
  },
  {
   "cell_type": "markdown",
   "metadata": {},
   "source": [
    "<div markdown=1 class=\"Answers\"> \n",
    "\n",
    "From the two graph we can see that the Taylor Expansion method is much faster than the recursive method but much slower than the method non-recursive and Binomial Formula."
   ]
  },
  {
   "cell_type": "markdown",
   "metadata": {},
   "source": [
    "### A variant: Motzkin numbers\n",
    "\n",
    "The <i>Motzkin numbers</i> $m_0,m_1,m_2,\\dots$ are similar to Catalan numbers and defined by $m_0=m_1=1$ and for every $n\\geq 2$\n",
    "$$\n",
    "m_n=m_{n-1}+\\sum_{k=0}^{n-2}m_km_{n-2-k}.\n",
    "$$"
   ]
  },
  {
   "cell_type": "markdown",
   "metadata": {},
   "source": [
    "<div markdown=1 class=\"DoIt\"> \n",
    "\n",
    "**(Theory + SymPy)** \n",
    "\n",
    "1. Find the generating function $\\mathcal{M}(x)=\\sum_{n\\geq 0}m_nx^n$. \n",
    "2. Compute the radius of convergence of $\\mathcal{C}$ and $\\mathcal{M}$. Compare with numerical experiments: which sequence is growing fastest between $(c_n)$ and $(m_n)$?"
   ]
  },
  {
   "cell_type": "markdown",
   "metadata": {},
   "source": [
    "<div markdown=1 class=\"Answers\"> 4.1.1.1\n",
    "\n",
    "We first try to simplify the motzkin numbers recurrence relation. We have\n",
    "$$\n",
    "\\mathcal{M}(x)=\\sum_{n\\geq 0}m_nx^n = \\sum_{n \\geq 0}(m_{n-1}+\\sum^{n-2}_{k=0}m_{k}m_{n-2-k})x^{n}\n",
    "$$\n",
    "Since we have $\\mathcal{M}_0 = \\mathcal{M}_1 = 1$, therefore we have\n",
    "$$\n",
    "\\begin{aligned}\n",
    "\\mathcal{M}(x) &= \\sum_{n \\geq 0}(m_{n-1}+\\sum^{n-2}_{k=0}m_{k}m_{n-2-k})x^{n}\\\\\n",
    "&= x \\sum_{n \\geq 0}m_{n-1} x^{n-1} + \\sum_{n \\geq 0} \\sum^{n-2}_{k=0}m_{k}m_{n-2-k} x^{n}\\\\\n",
    "&= x \\mathcal{M}(x) + 1 + \\sum_{n \\geq 2} \\sum^{n-2}_{k=0}m_{k}m_{n-2-k} x^{n} \\\\\n",
    "&= x \\mathcal{M}(x) + 1 + x^{2}\\sum_{n \\geq 0} \\sum^{n}_{k=0}m_{k}m_{n-k}x^{n}\\\\\n",
    "&= x \\mathcal{M}(x) + 1 + x^{2} (\\sum_{n \\geq 0} m_{n}x^{n})^{2}\\\\\n",
    "&= x \\mathcal{M}(x) + 1 + x^{2} \\mathcal{M(x)}\n",
    "\\end{aligned}\n",
    "$$\n",
    "\n",
    "Therefore, we know that  $\\mathcal{M}(x)=\\sum_{n\\geq 0}m_nx^n$ is a root for $x^2 M^2 + (x-1)M + 1 =0$. \n"
   ]
  },
  {
   "cell_type": "code",
   "execution_count": 28,
   "metadata": {
    "ExecuteTime": {
     "end_time": "2023-01-10T20:20:04.596733Z",
     "start_time": "2023-01-10T20:20:04.438080Z"
    }
   },
   "outputs": [
    {
     "name": "stdout",
     "output_type": "stream",
     "text": [
      "[(-x - sqrt(-(x + 1)*(3*x - 1)) + 1)/(2*x**2), (-x + sqrt(-(x + 1)*(3*x - 1)) + 1)/(2*x**2)]\n"
     ]
    },
    {
     "data": {
      "text/latex": [
       "$\\displaystyle \\frac{- x - \\sqrt{- \\left(x + 1\\right) \\left(3 x - 1\\right)} + 1}{2 x^{2}}$"
      ],
      "text/plain": [
       "(-x - sqrt(-(x + 1)*(3*x - 1)) + 1)/(2*x**2)"
      ]
     },
     "metadata": {},
     "output_type": "display_data"
    },
    {
     "data": {
      "text/latex": [
       "$\\displaystyle \\frac{- x + \\sqrt{- \\left(x + 1\\right) \\left(3 x - 1\\right)} + 1}{2 x^{2}}$"
      ],
      "text/plain": [
       "(-x + sqrt(-(x + 1)*(3*x - 1)) + 1)/(2*x**2)"
      ]
     },
     "metadata": {},
     "output_type": "display_data"
    }
   ],
   "source": [
    "x = symbols('x')\n",
    "M = symbols('M')\n",
    "SeriesM = solve(x**2 * M**2 + x * M - M + 1, M)\n",
    "print(SeriesM)\n",
    "display(SeriesM[0])\n",
    "display(SeriesM[1])"
   ]
  },
  {
   "cell_type": "markdown",
   "metadata": {},
   "source": [
    "<div markdown=1 class=\"Answers\"> 4.1.1.1\n",
    "\n",
    "We use `sympy` to solve the equation we have\n",
    "$$\n",
    "\\mathcal{M}_{1}(x)= \\frac{1 -x - \\sqrt{1 - 2 x-3x^2}}{2 x^2} \\quad \\mathcal{M}_{2}(x)= \\frac{1 -x + \\sqrt{1 - 2 x-3x^2}}{2 x^2}\n",
    "$$\n",
    "Since we know $\\mathcal{M}(0)=1$, therefore the only possible solution is \n",
    "$$\n",
    "\\mathcal{M}(x)= \\frac{1 -x - \\sqrt{1 - 2 x-3x^2}}{2 x^2}\n",
    "$$\n"
   ]
  },
  {
   "cell_type": "code",
   "execution_count": 24,
   "metadata": {
    "ExecuteTime": {
     "end_time": "2023-01-19T11:13:30.434452Z",
     "start_time": "2023-01-19T11:13:28.227917Z"
    }
   },
   "outputs": [
    {
     "name": "stdout",
     "output_type": "stream",
     "text": [
      "--------- Question 4.1.1.1 ----------\n",
      "The first ten Motzkin numbers with Taylor Expansion are  [1, 2, 4, 9, 21, 51, 127, 323, 835, 2188]\n"
     ]
    }
   ],
   "source": [
    "# Implementation of the formula of Motzkin Numbers  \n",
    "def MotzkinFormula(n):\n",
    "    x = symbols('x')\n",
    "    m= (1-x-sqrt(1-2*x-3*x**2))/(2*x**2)\n",
    "    m_truncated = m.series(x,0,n+1)\n",
    "    return m_truncated.coeff(x**n)\n",
    "  \n",
    "print(\"--------- Question 4.1.1.1 ----------\")\n",
    "lis = [MotzkinFormula(i) for i in range(11)]\n",
    "lis[0] = 1\n",
    "print(\"The first ten Motzkin numbers with Taylor Expansion are \", lis[1:])\n"
   ]
  },
  {
   "cell_type": "markdown",
   "metadata": {},
   "source": [
    "<div markdown=1 class=\"Answers\"> 4.1.1.2\n",
    "\n",
    "An integral representation of Motzkin numbers is given by\n",
    "$$\n",
    "m_n=\\frac{2}{\\pi} \\int_0^\\pi \\sin (x)^2(2 \\cos (x)+1)^n d x .\n",
    "$$\n",
    "They have the asymptotic behaviour\n",
    "$$\n",
    "m_n  \\sim \\frac{1}{2 \\sqrt{\\pi}}\\left(\\frac{3}{n}\\right)^{3 / 2} 3^n, n \\rightarrow \\infty\n",
    "$$\n",
    "Therefore, they have the same radius of convergence. We apply the similar method as Catalan number. Base on [D'Alembert's test](https://en.wikipedia.org/wiki/Ratio_test), for radius of convergence $R$ we compute $\\lim _{n \\rightarrow \\infty}\\left|\\frac{m_{n+1}}{m_n}\\right|=\\rho$ for $\\sum_{n\\geq 0}m_n x^n$\n",
    "$$\n",
    "\\begin{aligned}\n",
    "\\rho &= \\lim_{n \\rightarrow \\infty}|\\frac{m_{n+1}}{m_n}|\\\\\n",
    "&= \\lim_{n \\rightarrow \\infty} \\left| \\frac{(\\frac{3}{n+1})^{\\frac{3}{2}}3^{n+1}}{(\\frac{3}{n})^{\\frac{3}{2}}3^{n}} \\right|\\\\\n",
    "&= \\lim_{n \\rightarrow \\infty} \\left| 3(\\frac{n}{n+1})^{3/2} \\right|\\\\\n",
    "&= 3\n",
    "\\end{aligned}\n",
    "$$\n",
    "Since $\\rho \\neq 0$, then we have the radius of convergence $R=\\frac{1}{\\rho}=\\frac{1}{3}$.\n",
    "\n",
    "Or we can illustrate in this way, from the definition of radius of convergence, we need to find an $R$ such that when $\\|x\\|<R$ the series converges. Then we observe that radius shows when $1-2R-3R^2 = 0$. Then we got $R=\\frac{1}{3}$ or $r=-1$. Since when $x<1$, the function diverges, we can also get $R=\\frac{1}{3}$\n",
    "\n",
    "Then we can say the radius of convergence of $\\mathcal{C}$ is smaller than $\\mathcal{M}$. Therefore the sequence of $c_n$ is growing faster than $m_n$. We can also show this in the graph."
   ]
  },
  {
   "cell_type": "code",
   "execution_count": 26,
   "metadata": {
    "ExecuteTime": {
     "end_time": "2023-01-19T11:15:19.058735Z",
     "start_time": "2023-01-19T11:15:16.710091Z"
    }
   },
   "outputs": [
    {
     "data": {
      "image/png": "[encoded data removed]",
      "text/plain": [
       "<Figure size 720x504 with 1 Axes>"
      ]
     },
     "metadata": {
      "needs_background": "light"
     },
     "output_type": "display_data"
    },
    {
     "name": "stdout",
     "output_type": "stream",
     "text": [
      "--------- The first 15 numbers of Catalan and Motzkin ----------\n",
      "[1, 2, 5, 14, 42, 132, 429, 1430, 4862, 16796, 58786, 208012, 742900, 2674440, 9694845]\n",
      "[1, 2, 4, 9, 21, 51, 127, 323, 835, 2188, 5798, 15511, 41835, 113634, 310572]\n"
     ]
    }
   ],
   "source": [
    "# plot the Catalan numbers and Motzkin numbers in the same graph\n",
    "N = [i for i in range(1, 16)]\n",
    "plt.figure(figsize=(10, 7))\n",
    "lis_catalan = [CatalanNonRecursive(i) for i in range(1, 16)]\n",
    "lis_motzkin = [MotzkinFormula(i) for i in range(1, 16)]\n",
    "plt.plot(N, lis_catalan, 'o-', label='Catalan Numbers')\n",
    "plt.plot(N, lis_motzkin, 'o-', label='Motzkin Numbers')\n",
    "plt.legend()\n",
    "plt.title(\"Catalan Numbers and Motzkin Numbers\")\n",
    "plt.xlabel(\"N\")\n",
    "plt.ylabel(\"Numbers\")\n",
    "plt.show()\n",
    "\n",
    "print(\"--------- The first 15 numbers of Catalan and Motzkin ----------\")\n",
    "print(lis_catalan)\n",
    "print(lis_motzkin)\n"
   ]
  },
  {
   "cell_type": "markdown",
   "metadata": {},
   "source": [
    "# Dealing with large Catalan numbers"
   ]
  },
  {
   "cell_type": "markdown",
   "metadata": {},
   "source": [
    "<a id=\"Bostan\"></a>\n",
    "## Catalan and modulos: the Bostan Conjecture"
   ]
  },
  {
   "cell_type": "markdown",
   "metadata": {},
   "source": [
    "<div markdown=1 class=\"DoIt\"> \n",
    "\n",
    "Alin Bostan (computer scientist at INRIA and Ecole Polytechnique) conjectured a few years ago <a href=\"http://www.mat.univie.ac.at/%7Eslc/wpapers/s80vortrag/bostan.pdf\">(see this link p.26)</a> that in basis 10 the last digit of $c_n$ is never $3$. So far this is still an open problem.<br>\n",
    "\n",
    "1. Check the conjecture for $1\\leq n\\leq 100$. The output should look like\n",
    "```python\n",
    "Catalan 1 mod 10 is 1: the Conjecture is True\n",
    "Catalan 2 mod 10 is 2: the Conjecture is True\n",
    "Catalan 3 mod 10 is 5: the Conjecture is True\n",
    "Catalan 4 mod 10 is 4: the Conjecture is True\n",
    "...\n",
    "```\n",
    "2. How to check the conjecture for very large values? Try for example with $7000\\leq n\\leq 7100$.<br>\n",
    "<i>(Hint: Be careful how you compute $c_n \\mod 10$, since $c_n$ grows very fast!)</i>\n",
    "3. More generally, what is the frequency of $0,1,\\dots,9$ among last digits of the $n$ first Catalan numbers?\n"
   ]
  },
  {
   "cell_type": "code",
   "execution_count": 27,
   "metadata": {
    "ExecuteTime": {
     "end_time": "2023-01-19T11:15:43.060055Z",
     "start_time": "2023-01-19T11:15:43.052924Z"
    }
   },
   "outputs": [
    {
     "name": "stdout",
     "output_type": "stream",
     "text": [
      "Catalan 1 mode 10 is 1 :the Conjecture is True\n",
      "Catalan 2 mode 10 is 2 :the Conjecture is True\n",
      "Catalan 3 mode 10 is 5 :the Conjecture is True\n",
      "Catalan 4 mode 10 is 4 :the Conjecture is True\n",
      "Catalan 5 mode 10 is 2 :the Conjecture is True\n",
      "Catalan 6 mode 10 is 2 :the Conjecture is True\n",
      "Catalan 7 mode 10 is 9 :the Conjecture is True\n",
      "Catalan 8 mode 10 is 0 :the Conjecture is True\n",
      "Catalan 9 mode 10 is 2 :the Conjecture is True\n",
      "Catalan 10 mode 10 is 6 :the Conjecture is True\n",
      "Catalan 11 mode 10 is 6 :the Conjecture is True\n",
      "Catalan 12 mode 10 is 2 :the Conjecture is True\n",
      "Catalan 13 mode 10 is 0 :the Conjecture is True\n",
      "Catalan 14 mode 10 is 0 :the Conjecture is True\n",
      "Catalan 15 mode 10 is 5 :the Conjecture is True\n",
      "Catalan 16 mode 10 is 0 :the Conjecture is True\n",
      "Catalan 17 mode 10 is 0 :the Conjecture is True\n",
      "Catalan 18 mode 10 is 0 :the Conjecture is True\n",
      "Catalan 19 mode 10 is 0 :the Conjecture is True\n",
      "Catalan 20 mode 10 is 0 :the Conjecture is True\n",
      "Catalan 21 mode 10 is 0 :the Conjecture is True\n",
      "Catalan 22 mode 10 is 0 :the Conjecture is True\n",
      "Catalan 23 mode 10 is 0 :the Conjecture is True\n",
      "Catalan 24 mode 10 is 4 :the Conjecture is True\n",
      "Catalan 25 mode 10 is 2 :the Conjecture is True\n",
      "Catalan 26 mode 10 is 2 :the Conjecture is True\n",
      "Catalan 27 mode 10 is 4 :the Conjecture is True\n",
      "Catalan 28 mode 10 is 0 :the Conjecture is True\n",
      "Catalan 29 mode 10 is 8 :the Conjecture is True\n",
      "Catalan 30 mode 10 is 4 :the Conjecture is True\n",
      "Catalan 31 mode 10 is 8 :the Conjecture is True\n",
      "Catalan 32 mode 10 is 0 :the Conjecture is True\n",
      "Catalan 33 mode 10 is 4 :the Conjecture is True\n",
      "Catalan 34 mode 10 is 6 :the Conjecture is True\n",
      "Catalan 35 mode 10 is 6 :the Conjecture is True\n",
      "Catalan 36 mode 10 is 0 :the Conjecture is True\n",
      "Catalan 37 mode 10 is 6 :the Conjecture is True\n",
      "Catalan 38 mode 10 is 6 :the Conjecture is True\n",
      "Catalan 39 mode 10 is 2 :the Conjecture is True\n",
      "Catalan 40 mode 10 is 6 :the Conjecture is True\n",
      "Catalan 41 mode 10 is 6 :the Conjecture is True\n",
      "Catalan 42 mode 10 is 8 :the Conjecture is True\n",
      "Catalan 43 mode 10 is 4 :the Conjecture is True\n",
      "Catalan 44 mode 10 is 6 :the Conjecture is True\n",
      "Catalan 45 mode 10 is 6 :the Conjecture is True\n",
      "Catalan 46 mode 10 is 2 :the Conjecture is True\n",
      "Catalan 47 mode 10 is 0 :the Conjecture is True\n",
      "Catalan 48 mode 10 is 8 :the Conjecture is True\n",
      "Catalan 49 mode 10 is 0 :the Conjecture is True\n",
      "Catalan 50 mode 10 is 8 :the Conjecture is True\n",
      "Catalan 51 mode 10 is 6 :the Conjecture is True\n",
      "Catalan 52 mode 10 is 0 :the Conjecture is True\n",
      "Catalan 53 mode 10 is 6 :the Conjecture is True\n",
      "Catalan 54 mode 10 is 4 :the Conjecture is True\n",
      "Catalan 55 mode 10 is 0 :the Conjecture is True\n",
      "Catalan 56 mode 10 is 0 :the Conjecture is True\n",
      "Catalan 57 mode 10 is 8 :the Conjecture is True\n",
      "Catalan 58 mode 10 is 2 :the Conjecture is True\n",
      "Catalan 59 mode 10 is 2 :the Conjecture is True\n",
      "Catalan 60 mode 10 is 0 :the Conjecture is True\n",
      "Catalan 61 mode 10 is 2 :the Conjecture is True\n",
      "Catalan 62 mode 10 is 6 :the Conjecture is True\n",
      "Catalan 63 mode 10 is 2 :the Conjecture is True\n",
      "Catalan 64 mode 10 is 4 :the Conjecture is True\n",
      "Catalan 65 mode 10 is 0 :the Conjecture is True\n",
      "Catalan 66 mode 10 is 6 :the Conjecture is True\n",
      "Catalan 67 mode 10 is 8 :the Conjecture is True\n",
      "Catalan 68 mode 10 is 4 :the Conjecture is True\n",
      "Catalan 69 mode 10 is 4 :the Conjecture is True\n",
      "Catalan 70 mode 10 is 0 :the Conjecture is True\n",
      "Catalan 71 mode 10 is 8 :the Conjecture is True\n",
      "Catalan 72 mode 10 is 2 :the Conjecture is True\n",
      "Catalan 73 mode 10 is 4 :the Conjecture is True\n",
      "Catalan 74 mode 10 is 8 :the Conjecture is True\n",
      "Catalan 75 mode 10 is 8 :the Conjecture is True\n",
      "Catalan 76 mode 10 is 0 :the Conjecture is True\n",
      "Catalan 77 mode 10 is 6 :the Conjecture is True\n",
      "Catalan 78 mode 10 is 8 :the Conjecture is True\n",
      "Catalan 79 mode 10 is 2 :the Conjecture is True\n",
      "Catalan 80 mode 10 is 2 :the Conjecture is True\n",
      "Catalan 81 mode 10 is 8 :the Conjecture is True\n",
      "Catalan 82 mode 10 is 2 :the Conjecture is True\n",
      "Catalan 83 mode 10 is 6 :the Conjecture is True\n",
      "Catalan 84 mode 10 is 6 :the Conjecture is True\n",
      "Catalan 85 mode 10 is 0 :the Conjecture is True\n",
      "Catalan 86 mode 10 is 6 :the Conjecture is True\n",
      "Catalan 87 mode 10 is 0 :the Conjecture is True\n",
      "Catalan 88 mode 10 is 0 :the Conjecture is True\n",
      "Catalan 89 mode 10 is 8 :the Conjecture is True\n",
      "Catalan 90 mode 10 is 0 :the Conjecture is True\n",
      "Catalan 91 mode 10 is 0 :the Conjecture is True\n",
      "Catalan 92 mode 10 is 2 :the Conjecture is True\n",
      "Catalan 93 mode 10 is 4 :the Conjecture is True\n",
      "Catalan 94 mode 10 is 4 :the Conjecture is True\n",
      "Catalan 95 mode 10 is 6 :the Conjecture is True\n",
      "Catalan 96 mode 10 is 6 :the Conjecture is True\n",
      "Catalan 97 mode 10 is 6 :the Conjecture is True\n",
      "Catalan 98 mode 10 is 2 :the Conjecture is True\n",
      "Catalan 99 mode 10 is 8 :the Conjecture is True\n",
      "Catalan 100 mode 10 is 2 :the Conjecture is True\n"
     ]
    }
   ],
   "source": [
    "# We test the conjecture for 1 to 100\n",
    "for n in range(1, 101):\n",
    "    if CatalanClosedForm(n) % 10 != 3:\n",
    "        print('Catalan', n, 'mode 10 is',\n",
    "              CatalanClosedForm(n) % 10, ':the Conjecture is', True)\n",
    "    else:\n",
    "        print('the Conjecture is', False)\n"
   ]
  },
  {
   "cell_type": "markdown",
   "metadata": {},
   "source": [
    "<div markdown=1 class=\"Answers\"> 5.1.1\n",
    "\n",
    "We can use the function `CatalanClosedForm(n)` test the conjecture. We can see that the conjecture is true for $1\\leq n\\leq 100$."
   ]
  },
  {
   "cell_type": "code",
   "execution_count": 30,
   "metadata": {
    "ExecuteTime": {
     "end_time": "2023-01-19T13:31:21.592114Z",
     "start_time": "2023-01-19T13:31:11.815154Z"
    }
   },
   "outputs": [
    {
     "name": "stdout",
     "output_type": "stream",
     "text": [
      "Catalan 7000 mode 10 is 4 :the Conjecture is True\n",
      "Catalan 7001 mode 10 is 4 :the Conjecture is True\n",
      "Catalan 7002 mode 10 is 8 :the Conjecture is True\n",
      "Catalan 7003 mode 10 is 0 :the Conjecture is True\n",
      "Catalan 7004 mode 10 is 6 :the Conjecture is True\n",
      "Catalan 7005 mode 10 is 8 :the Conjecture is True\n",
      "Catalan 7006 mode 10 is 8 :the Conjecture is True\n",
      "Catalan 7007 mode 10 is 6 :the Conjecture is True\n",
      "Catalan 7008 mode 10 is 0 :the Conjecture is True\n",
      "Catalan 7009 mode 10 is 8 :the Conjecture is True\n",
      "Catalan 7010 mode 10 is 4 :the Conjecture is True\n",
      "Catalan 7011 mode 10 is 4 :the Conjecture is True\n",
      "Catalan 7012 mode 10 is 8 :the Conjecture is True\n",
      "Catalan 7013 mode 10 is 0 :the Conjecture is True\n",
      "Catalan 7014 mode 10 is 0 :the Conjecture is True\n",
      "Catalan 7015 mode 10 is 0 :the Conjecture is True\n",
      "Catalan 7016 mode 10 is 0 :the Conjecture is True\n",
      "Catalan 7017 mode 10 is 0 :the Conjecture is True\n",
      "Catalan 7018 mode 10 is 0 :the Conjecture is True\n",
      "Catalan 7019 mode 10 is 0 :the Conjecture is True\n",
      "Catalan 7020 mode 10 is 0 :the Conjecture is True\n",
      "Catalan 7021 mode 10 is 0 :the Conjecture is True\n",
      "Catalan 7022 mode 10 is 0 :the Conjecture is True\n",
      "Catalan 7023 mode 10 is 0 :the Conjecture is True\n",
      "Catalan 7024 mode 10 is 6 :the Conjecture is True\n",
      "Catalan 7025 mode 10 is 8 :the Conjecture is True\n",
      "Catalan 7026 mode 10 is 8 :the Conjecture is True\n",
      "Catalan 7027 mode 10 is 6 :the Conjecture is True\n",
      "Catalan 7028 mode 10 is 0 :the Conjecture is True\n",
      "Catalan 7029 mode 10 is 2 :the Conjecture is True\n",
      "Catalan 7030 mode 10 is 6 :the Conjecture is True\n",
      "Catalan 7031 mode 10 is 6 :the Conjecture is True\n",
      "Catalan 7032 mode 10 is 2 :the Conjecture is True\n",
      "Catalan 7033 mode 10 is 0 :the Conjecture is True\n",
      "Catalan 7034 mode 10 is 6 :the Conjecture is True\n",
      "Catalan 7035 mode 10 is 8 :the Conjecture is True\n",
      "Catalan 7036 mode 10 is 8 :the Conjecture is True\n",
      "Catalan 7037 mode 10 is 6 :the Conjecture is True\n",
      "Catalan 7038 mode 10 is 0 :the Conjecture is True\n",
      "Catalan 7039 mode 10 is 0 :the Conjecture is True\n",
      "Catalan 7040 mode 10 is 0 :the Conjecture is True\n",
      "Catalan 7041 mode 10 is 0 :the Conjecture is True\n",
      "Catalan 7042 mode 10 is 0 :the Conjecture is True\n",
      "Catalan 7043 mode 10 is 0 :the Conjecture is True\n",
      "Catalan 7044 mode 10 is 0 :the Conjecture is True\n",
      "Catalan 7045 mode 10 is 0 :the Conjecture is True\n",
      "Catalan 7046 mode 10 is 0 :the Conjecture is True\n",
      "Catalan 7047 mode 10 is 0 :the Conjecture is True\n",
      "Catalan 7048 mode 10 is 0 :the Conjecture is True\n",
      "Catalan 7049 mode 10 is 8 :the Conjecture is True\n",
      "Catalan 7050 mode 10 is 4 :the Conjecture is True\n",
      "Catalan 7051 mode 10 is 4 :the Conjecture is True\n",
      "Catalan 7052 mode 10 is 8 :the Conjecture is True\n",
      "Catalan 7053 mode 10 is 0 :the Conjecture is True\n",
      "Catalan 7054 mode 10 is 6 :the Conjecture is True\n",
      "Catalan 7055 mode 10 is 8 :the Conjecture is True\n",
      "Catalan 7056 mode 10 is 8 :the Conjecture is True\n",
      "Catalan 7057 mode 10 is 6 :the Conjecture is True\n",
      "Catalan 7058 mode 10 is 0 :the Conjecture is True\n",
      "Catalan 7059 mode 10 is 8 :the Conjecture is True\n",
      "Catalan 7060 mode 10 is 4 :the Conjecture is True\n",
      "Catalan 7061 mode 10 is 4 :the Conjecture is True\n",
      "Catalan 7062 mode 10 is 8 :the Conjecture is True\n",
      "Catalan 7063 mode 10 is 0 :the Conjecture is True\n",
      "Catalan 7064 mode 10 is 0 :the Conjecture is True\n",
      "Catalan 7065 mode 10 is 0 :the Conjecture is True\n",
      "Catalan 7066 mode 10 is 0 :the Conjecture is True\n",
      "Catalan 7067 mode 10 is 0 :the Conjecture is True\n",
      "Catalan 7068 mode 10 is 0 :the Conjecture is True\n",
      "Catalan 7069 mode 10 is 0 :the Conjecture is True\n",
      "Catalan 7070 mode 10 is 0 :the Conjecture is True\n",
      "Catalan 7071 mode 10 is 0 :the Conjecture is True\n",
      "Catalan 7072 mode 10 is 0 :the Conjecture is True\n",
      "Catalan 7073 mode 10 is 0 :the Conjecture is True\n",
      "Catalan 7074 mode 10 is 0 :the Conjecture is True\n",
      "Catalan 7075 mode 10 is 0 :the Conjecture is True\n",
      "Catalan 7076 mode 10 is 0 :the Conjecture is True\n",
      "Catalan 7077 mode 10 is 0 :the Conjecture is True\n",
      "Catalan 7078 mode 10 is 0 :the Conjecture is True\n",
      "Catalan 7079 mode 10 is 0 :the Conjecture is True\n",
      "Catalan 7080 mode 10 is 0 :the Conjecture is True\n",
      "Catalan 7081 mode 10 is 0 :the Conjecture is True\n",
      "Catalan 7082 mode 10 is 0 :the Conjecture is True\n",
      "Catalan 7083 mode 10 is 0 :the Conjecture is True\n",
      "Catalan 7084 mode 10 is 0 :the Conjecture is True\n",
      "Catalan 7085 mode 10 is 0 :the Conjecture is True\n",
      "Catalan 7086 mode 10 is 0 :the Conjecture is True\n",
      "Catalan 7087 mode 10 is 0 :the Conjecture is True\n",
      "Catalan 7088 mode 10 is 0 :the Conjecture is True\n",
      "Catalan 7089 mode 10 is 0 :the Conjecture is True\n",
      "Catalan 7090 mode 10 is 0 :the Conjecture is True\n",
      "Catalan 7091 mode 10 is 0 :the Conjecture is True\n",
      "Catalan 7092 mode 10 is 0 :the Conjecture is True\n",
      "Catalan 7093 mode 10 is 0 :the Conjecture is True\n",
      "Catalan 7094 mode 10 is 0 :the Conjecture is True\n",
      "Catalan 7095 mode 10 is 0 :the Conjecture is True\n",
      "Catalan 7096 mode 10 is 0 :the Conjecture is True\n",
      "Catalan 7097 mode 10 is 0 :the Conjecture is True\n",
      "Catalan 7098 mode 10 is 0 :the Conjecture is True\n",
      "Catalan 7099 mode 10 is 0 :the Conjecture is True\n",
      "Catalan 7100 mode 10 is 0 :the Conjecture is True\n"
     ]
    }
   ],
   "source": [
    "def precalc(MOD, num):\n",
    "    catalan = [0] * num\n",
    "    catalan[0], catalan[1] = 1, 1\n",
    "    for i in range(2, num):\n",
    "        total = 0\n",
    "        for j in range(1, i+1):\n",
    "            left = catalan[j-1] % MOD\n",
    "            right = catalan[i-j] % MOD\n",
    "            total = (total + (left * right) % MOD) % MOD\n",
    "        catalan[i] = total\n",
    "    return catalan\n",
    "\n",
    "\n",
    "if __name__ == '__main__':\n",
    "    catalan = precalc(10, 8000)\n",
    "    for i in range(7000, 7101):\n",
    "        if catalan[i] != 3:\n",
    "            print('Catalan', i, 'mode 10 is', catalan[i], ':the Conjecture is',\n",
    "                  True)\n",
    "        else:\n",
    "            print('the Conjecture is', False)"
   ]
  },
  {
   "cell_type": "markdown",
   "metadata": {},
   "source": [
    "<div markdown=1 class=\"Answers\"> 5.1.2\n",
    "\n",
    "Since our previous function is not that efficient, we need to apply other algorithms. We use the property that\n",
    "$$\n",
    "(a \\cdot b) \\text{ mod } p = ((a \\text{ mod } p) \\cdot (b \\text{ mod } p)) \\text{ mod } p\n",
    "$$\n",
    "This is easy to prove, we assume that $k_1 = (a \\text{ mod } p) $ and $k_{2}= (b \\text{ mod } p))$. Therefore, we have $a=mq+k_1$ and $b=nq+k_2$ where $m,n \\in \\mathbb{Z}$. We have\n",
    "$$\n",
    "\\begin{aligned}\n",
    "(a \\cdot b) \\text{ mod } p &= (mnq^{2}+(mk_{2}+nk_{1})q+k_{1}k_{2})\\text{ mod } p \\\\\n",
    "&= (k_{1}k_{2})\\text{ mod } p \\\\\n",
    "&= ((a \\text{ mod } p) \\cdot (b \\text{ mod } p)) \\text{ mod } p\n",
    "\\end{aligned}\n",
    "$$\n",
    "Then we can use this property to write the recursive function as above. After all the computation, we find that the conjecture is true for $0 \\leq n\\leq 7101$."
   ]
  },
  {
   "cell_type": "code",
   "execution_count": 31,
   "metadata": {
    "ExecuteTime": {
     "end_time": "2023-01-19T13:32:07.564335Z",
     "start_time": "2023-01-19T13:31:46.262513Z"
    }
   },
   "outputs": [
    {
     "name": "stdout",
     "output_type": "stream",
     "text": [
      "-------- The test case with n = 1000 --------\n",
      "The frequency of the last digit 1 is  0.002\n",
      "The frequency of the last digit 2 is  0.056\n",
      "The frequency of the last digit 5 is  0.004\n",
      "The frequency of the last digit 4 is  0.073\n",
      "The frequency of the last digit 9 is  0.003\n",
      "The frequency of the last digit 0 is  0.781\n",
      "The frequency of the last digit 6 is  0.03\n",
      "The frequency of the last digit 8 is  0.05\n",
      "The frequency of the last digit 7 is  0.001\n",
      "-------- The test case with n = 5000 --------\n",
      "The frequency of the last digit 1 is  0.0004\n",
      "The frequency of the last digit 2 is  0.0292\n",
      "The frequency of the last digit 5 is  0.0014\n",
      "The frequency of the last digit 4 is  0.0414\n",
      "The frequency of the last digit 9 is  0.0006\n",
      "The frequency of the last digit 0 is  0.8692\n",
      "The frequency of the last digit 6 is  0.0224\n",
      "The frequency of the last digit 8 is  0.0352\n",
      "The frequency of the last digit 7 is  0.0002\n",
      "-------- The test case with n = 10000 --------\n",
      "The frequency of the last digit 1 is  0.0002\n",
      "The frequency of the last digit 2 is  0.0244\n",
      "The frequency of the last digit 5 is  0.0008\n",
      "The frequency of the last digit 4 is  0.0319\n",
      "The frequency of the last digit 9 is  0.0003\n",
      "The frequency of the last digit 0 is  0.9021\n",
      "The frequency of the last digit 6 is  0.0162\n",
      "The frequency of the last digit 8 is  0.024\n",
      "The frequency of the last digit 7 is  0.0001\n"
     ]
    }
   ],
   "source": [
    "# we use a dictionary to store the frequency of the last digit of Catalan numbers\n",
    "# we test the case with n = 1000, 5000, 10000\n",
    "catalan1 = precalc(10, 1000)\n",
    "catalan2 = precalc(10, 5000)\n",
    "catalan3 = precalc(10, 10000)\n",
    "\n",
    "def count_last_digit(catalan):\n",
    "    count = {}\n",
    "    for el in catalan:\n",
    "        if el in count:\n",
    "            count[el] += 1\n",
    "        else:\n",
    "            count[el] = 1\n",
    "\n",
    "    for key in count:\n",
    "        count[key] = count[key] / len(catalan)\n",
    "\n",
    "    return count\n",
    "\n",
    "count1 = count_last_digit(catalan1)\n",
    "count2 = count_last_digit(catalan2)\n",
    "count3 = count_last_digit(catalan3)\n",
    "\n",
    "# print catalan 1 and catalan 2\n",
    "def print_catalan(count):\n",
    "    for key in count:\n",
    "        print('The frequency of the last digit', key, 'is ', count[key])\n",
    "\n",
    "\n",
    "print('-------- The test case with n = 1000 --------')\n",
    "print_catalan(count1)\n",
    "print('-------- The test case with n = 5000 --------')\n",
    "print_catalan(count2)\n",
    "print('-------- The test case with n = 10000 --------')\n",
    "print_catalan(count3)"
   ]
  },
  {
   "cell_type": "code",
   "execution_count": 32,
   "metadata": {
    "ExecuteTime": {
     "end_time": "2023-01-19T13:32:11.443357Z",
     "start_time": "2023-01-19T13:32:11.127530Z"
    }
   },
   "outputs": [
    {
     "data": {
      "image/png": "[encoded data removed]",
      "text/plain": [
       "<Figure size 936x648 with 1 Axes>"
      ]
     },
     "metadata": {
      "needs_background": "light"
     },
     "output_type": "display_data"
    }
   ],
   "source": [
    "# We can also plot the bar chart to show it\n",
    "x1 = list(count1.keys())\n",
    "y1 = list(count1.values())\n",
    "y2 = list(count2.values())\n",
    "y3 = list(count3.values())\n",
    "x = range(len(x1))\n",
    "\n",
    "plt.figure(figsize=(13, 9))\n",
    "# plot the bar separately\n",
    "plt.bar(x1, y1, width=0.4, color='b', label='n = 1000')\n",
    "plt.bar([i + 0.4 for i in x1], y2, width=0.4, color='r', label='n = 5000')\n",
    "plt.bar([i + 0.8 for i in x1], y3, width=0.4, color='g', label='n = 10000')\n",
    "plt.xlabel('Last digit of Catalan Number')\n",
    "plt.ylabel('Frequency of the last digit')\n",
    "plt.title('The frequency of the last digit of Catalan numbers')\n",
    "plt.legend()\n",
    "\n",
    "plt.show()"
   ]
  },
  {
   "cell_type": "markdown",
   "metadata": {},
   "source": [
    "<div markdown=1 class=\"Answers\"> 5.1.3\n",
    "\n",
    "We test the case for $n=1000$, $n=5000$, and $n=10000$. From the bar chart and the output of our test, we may deduce from that in basis 10 the last digit of $c_n$ is never $3$. When $n$ increase, we can find following \n",
    "- The probability for last digits of Catalan numbers is 0 getting increases. \n",
    "- The probability for last digits of Catalan numbers is even number getting decreases.\n",
    "- The probability for last digits of Catalan numbers is odd number (3 not included) is really small, which means the last digits of Catalan numbers is rarely odd when $n$ is a large number."
   ]
  },
  {
   "cell_type": "markdown",
   "metadata": {},
   "source": [
    "<a id=\"Asymptotics\"></a>\n",
    "## The <i>length</i> of large Catalan numbers"
   ]
  },
  {
   "cell_type": "markdown",
   "metadata": {},
   "source": [
    "It can be proved (this is beyond the level of Bachelor 2, a possible reference is p.384 in Ph.Flajolet, R.Sedgewick, <i>Analytic Combinatorics</i>) that for every $n$ we have\n",
    "$$\n",
    "\\frac{4^n}{\\sqrt{\\pi n^3}}\\big(1-\\frac{9}{8n}\\big) \\leq c_n \\leq \\frac{4^n}{\\sqrt{\\pi n^3}}, \\tag{\\$}\n",
    "$$\n",
    "which yields very good approximations when $n$ is large.\n",
    "We will use this approximation to estimate the <i>length</i> (<i>i.e.</i> the number of digits) of $c_n$ when $n$  is a power of ten."
   ]
  },
  {
   "cell_type": "markdown",
   "metadata": {},
   "source": [
    "<div markdown=1 class=\"DoIt\"> \n",
    "Consider the following table which records the <i>length</i> of $c_{10}$, $c_{100}$, $c_{1000}$,...\n",
    "\n",
    "\n",
    "<font size=\"+3\">\n",
    "<table>\n",
    "            <tr>\n",
    "                <td width=\"100\"> $c_{10^n}$</td>\n",
    "                <td > Number of digits of $c_{10^n}$</td>\n",
    "            </tr>\n",
    "            <tr>\n",
    "                <td width=\"100\"> $c_{10}$</td>\n",
    "                <td > 5</td>\n",
    "            </tr>\n",
    "            <tr>\n",
    "                <td width=\"100\"> $c_{100}$</td>\n",
    "                <td > 57</td>\n",
    "            </tr>\n",
    "            <tr>\n",
    "                <td width=\"100\"> $c_{10^3}$</td>\n",
    "                <td > 598</td>\n",
    "            </tr>\n",
    "            <tr>\n",
    "                <td width=\"100\"> $c_{10^4}$</td>\n",
    "                <td > 6015</td>\n",
    "            </tr>\n",
    "            <tr>\n",
    "                <td width=\"100\"> $c_{10^5}$</td>\n",
    "                <td > 60199</td>\n",
    "            </tr>\n",
    "            <tr>\n",
    "                <td width=\"100\"> $c_{10^6}$</td>\n",
    "                <td > 602051</td>\n",
    "            </tr>\n",
    "</table>\n",
    "</font>\n",
    "\n",
    "(For instance, $c_{10}=16796$ which has $5$ digits.)\n",
    "\n",
    "The goal is to complete the table. (An interesting challenge could be to break the record of <a href=\"https://oeis.org/A114466\">this sequence in the Online Encyclopedia of Integer Sequences</a>!)<br>\n",
    "For that purpose you have to\n",
    "1. **(Theory)** Find somewhere (or reprove) the formula which gives the number of digits of a given integer.\n",
    "2. Use this formula and python to complete the table. **Warning:** Do not try to explicitly compute $Cat_{10^n}$ since they grow too fast. Instead you need to figure out how to use equation (\\$) above."
   ]
  },
  {
   "cell_type": "markdown",
   "metadata": {},
   "source": [
    "<div markdown=1 class=\"Answers\"> 5.2.1\n",
    "\n",
    "For any positive integer $n$, we assume the digits of $n$ is $i$. We have the relation that\n",
    "$$\n",
    "10^{i-1} \\leq n < 10^{i}\n",
    "$$\n",
    "Then we take the $\\log_{10}$ for both side we have\n",
    "$$\n",
    "i-1 \\leq \\log(n) < i\n",
    "$$\n",
    "Then we can prove that the digits of any given number $n$ is \n",
    "$$\n",
    "i= ⌊\\log(n)⌋ + 1\n",
    "$$"
   ]
  },
  {
   "cell_type": "markdown",
   "metadata": {},
   "source": [
    "<div markdown=1 class=\"Answers\"> 5.2.2\n",
    "\n",
    "From the equation from **5.2.1** and above we have $i= ⌊\\log(n)⌋$ and $\\frac{4^n}{\\sqrt{\\pi n^3}}\\big(1-\\frac{9}{8n}\\big) \\leq c_n \\leq \\frac{4^n}{\\sqrt{\\pi n^3}}$. Then we take the $\\log_{10}$ for both side we have\n",
    "$$\n",
    "⌊\\log(\\frac{4^n}{\\sqrt{\\pi n^3}}\\big(1-\\frac{9}{8n}\\big))⌋ + 1 \\leq i= ⌊\\log(c_{n})⌋ \\leq ⌊\\log(\\frac{4^n}{\\sqrt{\\pi n^3}})⌋ + 1\n",
    "$$\n",
    "Since $n$ is a number of power 10, then we denote $n = 10^{k}$ where $k \\geq 1$ and $k$ is an integer. Then we have\n",
    "$$\n",
    "\\begin{aligned}\n",
    "\\log(\\frac{4^n}{\\sqrt{\\pi n^3}}\\big(1-\\frac{9}{8n}\\big)) &= \\log(\\frac{4^n}{\\sqrt{\\pi n^3}}) + \\log(1-\\frac{9}{8n})\\\\\n",
    "&= \\log 4^{n} - ( \\frac{1}{2}\\log(\\pi) + \\frac{3}{2}\\log(n) ) + \\log(1-\\frac{9}{8n})\\\\\n",
    "&= 10^{k} \\log 4 - ( \\frac{1}{2}\\log(\\pi) + \\frac{3k}{2} ) + \\log(1-\\frac{9}{8n})\\\\\n",
    "\\end{aligned}\n",
    "$$\n",
    "Since $k \\geq 1$ and $n = 10^{k}$, then we know that $n$ goes really fast, therefore $\\log(1-\\frac{9}{8n})$ tend close to $0$ and we can neglect it. Then we have\n",
    "$$\n",
    "i = ⌊\\log(\\frac{4^n}{\\sqrt{\\pi n^3}}\\big(1-\\frac{9}{8n}\\big))⌋ + 1 = ⌊10^{k} \\log 4 - ( \\frac{1}{2}\\log(\\pi) + \\frac{3k}{2} )⌋ + 1\n",
    "$$\n",
    "Therefore, we can use the code below to complete the table."
   ]
  },
  {
   "cell_type": "code",
   "execution_count": 33,
   "metadata": {
    "ExecuteTime": {
     "end_time": "2023-01-19T13:34:04.605930Z",
     "start_time": "2023-01-19T13:34:04.595314Z"
    }
   },
   "outputs": [
    {
     "name": "stdout",
     "output_type": "stream",
     "text": [
      "The number of digits of Catalan, 10 ** 1 is 5\n",
      "The number of digits of Catalan, 10 ** 2 is 57\n",
      "The number of digits of Catalan, 10 ** 3 is 598\n",
      "The number of digits of Catalan, 10 ** 4 is 6015\n",
      "The number of digits of Catalan, 10 ** 5 is 60199\n",
      "The number of digits of Catalan, 10 ** 6 is 602051\n",
      "The number of digits of Catalan, 10 ** 7 is 6020590\n",
      "The number of digits of Catalan, 10 ** 8 is 60205987\n",
      "The number of digits of Catalan, 10 ** 9 is 602059978\n",
      "The number of digits of Catalan, 10 ** 10 is 6020599899\n",
      "The number of digits of Catalan, 10 ** 11 is 60205999117\n",
      "The number of digits of Catalan, 10 ** 12 is 602059991310\n",
      "The number of digits of Catalan, 10 ** 13 is 6020599913260\n",
      "The number of digits of Catalan, 10 ** 14 is 60205999132775\n",
      "The number of digits of Catalan, 10 ** 15 is 602059991327940\n",
      "The number of digits of Catalan, 10 ** 16 is 6020599913279601\n",
      "The number of digits of Catalan, 10 ** 17 is 60205999132796217\n",
      "The number of digits of Catalan, 10 ** 18 is 602059991327962369\n",
      "The number of digits of Catalan, 10 ** 19 is 6020599913279624193\n"
     ]
    }
   ],
   "source": [
    "# implement the formula above\n",
    "def num_digits(n):\n",
    "    ub = (10**n) * log10(4) - (1 / 2) * log10(pi) - (3 * n / 2) * log10(10)\n",
    "    return math.floor(ub) + 1\n",
    "\n",
    "\n",
    "for i in range(1, 20):\n",
    "    print(\"The number of digits of Catalan, 10 **\", i, \"is\", num_digits(i))"
   ]
  },
  {
   "cell_type": "markdown",
   "metadata": {},
   "source": [
    "<div markdown=1 class=\"Answers\"> 5.2.2\n",
    "\n",
    "We can see from the result that $\\mathcal{Cat}_{10}$ grows really fast. The number of digits of $\\mathcal{Cat}_{10}$ is $5$ and the number of digits of $\\mathcal{Cat}_{10^6}$ is $602051$. Therefore we use the formula gave above and simluated with the `python` code."
   ]
  },
  {
   "cell_type": "markdown",
   "metadata": {},
   "source": [
    "<div markdown=1 class=\"DoIt\">  <b>(Theory)</b> For larger and larger $n$'s the right column always begins with the same digits ($60205...$). Can you explain this pattern?\n",
    "\n",
    "(<i>Hint: Again, you should use equation </i>(\\$)<i>.</i>)"
   ]
  },
  {
   "cell_type": "markdown",
   "metadata": {},
   "source": [
    "<div markdown=1 class=\"Answers\"> 5.2.3\n",
    "\n",
    "From **question 5.2.2**, we have \n",
    "$$\n",
    "i = ⌊10^{k} \\log 4 - ( \\frac{1}{2}\\log(\\pi) + \\frac{3k}{2} )⌋ + 1\n",
    "$$\n",
    "Since we want to prove that the right column always begins with the same digits ($60205...$), then we can ignore the smaller part of $i$, which means $( \\frac{1}{2}\\log(\\pi) + \\frac{3k}{2} )$ can be ignore since there are quite small compared to $10^{k} \\log 4$. Then compute $10^{k} \\log 4$ with `python` code and we have for the value of $10^{k} \\log(4)$ for $k \\in [1, 20]$. Since $\\log(4)=0.6020599913279624$, so we consider the marginal case, when $k=6$, $10^{6} \\log(4)=602059.9913279624$, and $\\frac{1}{2}\\log(\\pi) + \\frac{3k}{2} < 9$, therefore it would not influnce the second digits of $i$. This also applys to the value of $i$ with bigger $k$. Then we prove the theorem."
   ]
  },
  {
   "cell_type": "code",
   "execution_count": 34,
   "metadata": {
    "ExecuteTime": {
     "end_time": "2023-01-19T13:34:07.301633Z",
     "start_time": "2023-01-19T13:34:07.295804Z"
    }
   },
   "outputs": [
    {
     "name": "stdout",
     "output_type": "stream",
     "text": [
      "--------- Question 5.2.3 ----------\n",
      "The value of log(4) is 0.6020599913279624\n",
      "--------- Test ----------\n",
      "The number of digits of 10^ 1 log(4) is 6\n",
      "The number of digits of 10^ 2 log(4) is 60\n",
      "The number of digits of 10^ 3 log(4) is 602\n",
      "The number of digits of 10^ 4 log(4) is 6020\n",
      "The number of digits of 10^ 5 log(4) is 60205\n",
      "The number of digits of 10^ 6 log(4) is 602059\n",
      "The number of digits of 10^ 7 log(4) is 6020599\n",
      "The number of digits of 10^ 8 log(4) is 60205999\n",
      "The number of digits of 10^ 9 log(4) is 602059991\n",
      "The number of digits of 10^ 10 log(4) is 6020599913\n",
      "The number of digits of 10^ 11 log(4) is 60205999132\n",
      "The number of digits of 10^ 12 log(4) is 602059991327\n",
      "The number of digits of 10^ 13 log(4) is 6020599913279\n",
      "The number of digits of 10^ 14 log(4) is 60205999132796\n",
      "The number of digits of 10^ 15 log(4) is 602059991327962\n",
      "The number of digits of 10^ 16 log(4) is 6020599913279624\n",
      "The number of digits of 10^ 17 log(4) is 60205999132796240\n",
      "The number of digits of 10^ 18 log(4) is 602059991327962368\n",
      "The number of digits of 10^ 19 log(4) is 6020599913279624192\n"
     ]
    }
   ],
   "source": [
    "# return the number of 10^k log(4)\n",
    "def num_digits2(n):\n",
    "    ub = (10**n) * log10(4)\n",
    "    return math.floor(ub)\n",
    "  \n",
    "print(\"--------- Question 5.2.3 ----------\")\n",
    "print('The value of log(4) is', log10(4))\n",
    "\n",
    "print(\"--------- Test ----------\")  \n",
    "for i in range(1, 20):\n",
    "    print(\"The number of digits of 10^\", i, \"log(4) is\", num_digits2(i))"
   ]
  },
  {
   "cell_type": "markdown",
   "metadata": {},
   "source": [
    "<a id=\"Combinatorial\"></a>\n",
    "# Three combinatorial interpretations of $c_n$"
   ]
  },
  {
   "cell_type": "markdown",
   "metadata": {},
   "source": [
    "<a id=\"Triangle\"></a>\n",
    "## Paths on a triangle"
   ]
  },
  {
   "cell_type": "markdown",
   "metadata": {},
   "source": [
    "Let $\\mathcal{T}\\subset \\mathbb{N}^2$ denote the infinite \"triangle\"\n",
    "$$\n",
    "\\mathcal{T}=\\big\\{(k,n),\\quad 0\\leq k\\leq n \\big\\}\n",
    "$$\n",
    "(see the figure below).\n",
    "\n",
    "For $(k,n) \\in \\mathcal{T}$ we denote by $P_{k,n}$ the number of paths such that:\n",
    "* the path starts at $(0,0)$ ends at $(n,k)$ and entirely lies inside $\\mathcal{T}$\n",
    "* the paths only takes unit steps in the North and East directions.\n",
    "\n",
    "For example this figure shows that $P_{2,3}=5$:\n",
    "\n",
    "<img src=\"figures/Escalier.jpg\" width='500px' >\n",
    "    "
   ]
  },
  {
   "cell_type": "markdown",
   "metadata": {},
   "source": [
    "<div markdown=1 class=\"DoIt\"> \n",
    "\n",
    "1. Write a function `Paths(K,N)` which returns a table (or a matrix) of all the values of $P_{k,n}$ for $k\\leq K, n\\leq N$.<br>\n",
    "<i>(Hint: Think recursive!)</i>\n",
    "2. Do you see on your table the connection with the Catalan numbers? **(Difficult)** Can you prove it?"
   ]
  },
  {
   "cell_type": "code",
   "execution_count": 38,
   "metadata": {
    "ExecuteTime": {
     "end_time": "2023-01-19T14:18:09.731535Z",
     "start_time": "2023-01-19T14:18:09.709214Z"
    }
   },
   "outputs": [
    {
     "name": "stdout",
     "output_type": "stream",
     "text": [
      "--------- Question 6.1.1 ----------\n",
      "[[0. 1. 1. 1.]\n",
      " [0. 1. 2. 3.]\n",
      " [0. 0. 2. 5.]]\n",
      "--------- Another Test Sample ----------\n",
      "[[  0.   1.   1.   1.   1.   1.   1.]\n",
      " [  0.   1.   2.   3.   4.   5.   6.]\n",
      " [  0.   0.   2.   5.   9.  14.  20.]\n",
      " [  0.   0.   0.   5.  14.  28.  48.]\n",
      " [  0.   0.   0.   0.  14.  42.  90.]\n",
      " [  0.   0.   0.   0.   0.  42. 132.]]\n",
      "--------- Test Sample for Calatan number ----------\n",
      "[1.0, 2.0, 5.0, 14.0, 42.0, 132.0]\n"
     ]
    }
   ],
   "source": [
    "# implement of the function Path\n",
    "# we use the recursive method by implement the auxiliary function Path\n",
    "def Path(k, n):\n",
    "    res = [['']]\n",
    "    up_count = [[0]]\n",
    "    right_count = [[0]]\n",
    "    if n == 0:\n",
    "        return []\n",
    "    if k == 0:\n",
    "        return ['up ' * n]\n",
    "    for i in range(1, n + k + 1):\n",
    "        res.append([])\n",
    "        up_count.append([])\n",
    "        right_count.append([])\n",
    "        for j in range(len(res[i-1])):\n",
    "            curr_path = res[i-1][j]\n",
    "            if up_count[i-1][j] < n:\n",
    "                res[i].append(curr_path + 'up ')\n",
    "                up_count[i].append(up_count[i-1][j] + 1)\n",
    "                right_count[i].append(right_count[i-1][j])\n",
    "            if right_count[i-1][j] < k:\n",
    "                if right_count[i-1][j] < up_count[i-1][j]:\n",
    "                    res[i].append(curr_path + 'right ')\n",
    "                    up_count[i].append(up_count[i-1][j])\n",
    "                    right_count[i].append(right_count[i-1][j] + 1)\n",
    "    return res[-1]\n",
    "\n",
    "\n",
    "def Paths(K, N):\n",
    "    result = np.zeros((K + 1, N + 1))\n",
    "    for k in range(K + 1):\n",
    "        for n in range(N + 1):\n",
    "            result[k, n] = len(Path(k, n))\n",
    "\n",
    "    return result\n",
    "\n",
    "\n",
    "print(\"--------- Question 6.1.1 ----------\")\n",
    "print(Paths(2, 3))\n",
    "print(\"--------- Another Test Sample ----------\")\n",
    "print(Paths(5, 6))\n",
    "print(\"--------- Test Sample for Calatan number ----------\")\n",
    "lis = []\n",
    "matrix = Paths(5, 6)\n",
    "for i in range(6):\n",
    "    lis.append(matrix[i][i + 1])\n",
    "print(lis)"
   ]
  },
  {
   "cell_type": "markdown",
   "metadata": {},
   "source": [
    "<div markdown=1 class=\"Answers\"> 6.1.1\n",
    "\n",
    "We denote the sequence $u_{k}=P_{k, k+1}$. From the matrix we can find that $u_k$ is same with the sequence of the Calatan Number, which means $P_{k,k+1}=c_{k}=\\sum_{j=0}^{k-1}=c_{k}c_{n-1-k}$. Now lets prove it.\n",
    "\n",
    "First we try to discuss in a more simple model. For example, I try to compute $P_{3, 4}=14$. For each points $(k, k+1)$ where $1 \\leq k \\leq 3$, we consider those points as step points, which means for example, we consider $(2,3)$ as an intermediate point, we have for all the possible paths to $(3,4)$ go through $(2,3)$, is the multiple of $P_{2,3} \\cdot P_{2,1}=c_{0}c_{2}$. For each step point, the paths go through the step points we can consider the process of two parts, from $(0,0)$ to the step points and from step points to $(k,k+1)$. \n",
    "\n",
    "Then we can expand this model into more general cases. we try to compute $P_{k, k+1}$, the for all step points $(m, m+1)$ where $0 \\leq m \\leq k-1$. For all the possible paths to $P_{k, k+1}$, we know it go through at least one step point, since all the paths start from $(0,0)$ and has to go through $(0,1)$ cause we have to go up at the beginning. Therefore we can consider all the paths into to step. First from $(0,0)$ to the step point, which we have $P_{m,m+1}$ and from the step point to $(k,k+1)$, which is equivalent to from $(0, 1)$ to $(k-m-1,k-m)$, we have $P_{k-m-1,k-m}$ possibilities. Then number of paths to $(k,k+1)$ is the multiplication of $P_{m,m+1}$ and $P_{k-m-1,k-m}$. So we have the sum for all step points that \n",
    "$$\n",
    "P_{k, k+1} = \\sum_{m=0}^{k-1}P_{k-m-1,k-m}P_{m,m+1}\n",
    "$$\n",
    "Since $P_{0,1}=1$ and $P_{1,2}=2$. And $c_{k}=\\sum_{j=0}^{k-1}=c_{k}c_{n-1-k}$ by the recursive formula of the Catalan number. Therefore we prove that \n",
    "$$\n",
    "P_{k,k+1}=c_{k}=\\sum_{j=0}^{k-1}=c_{k}c_{n-1-k}\n",
    "$$\n",
    "Also we have $P_{k,k}$ is also Catalan number, which is easy to explain since $P_{k,k}=P_{k,k+1}$, since from $(k,k)$ to $(k,k+1)$ there only on way which is go on step on direction East, so we have \n",
    "$$\n",
    "P_{k,k}=P_{k,k+1}=c_{k}=\\sum_{j=0}^{k-1}=c_{k}c_{n-1-k}\n",
    "$$\n",
    "So the paths to diagonal positions are also Catalan numbers."
   ]
  },
  {
   "cell_type": "markdown",
   "metadata": {},
   "source": [
    "<div markdown=1 class=\"Prop\"> \n",
    "\n",
    "We can also use other method to prove `Path(K,K)` is Catalan Numbers."
   ]
  },
  {
   "cell_type": "markdown",
   "metadata": {},
   "source": [
    "<div markdown=1 class=\"Answers\"> Further questions.\n",
    "\n",
    "The method is from [Wiki page](https://en.wikipedia.org/wiki/Catalan_number) of Catalan number. We count the number of paths which start and end on the diagonal of a $n \\times n$ grid. All such paths have n right and n up steps. Since we have $2n$ steps in total, therefore all the possibility are binomial number $\\binom{2n}{n}$.\n",
    "\n",
    "<img src=\"https://upload.wikimedia.org/wikipedia/commons/thumb/3/36/Catalan_number-path_reflection.svg/345px-Catalan_number-path_reflection.svg.png\" width='250px' >\n",
    "\n",
    "However, we are restrict by the triangle. As the graph shown above, the path below the diagonal line is not valid. Therefore, we use make the invalid portion of the path flipped like the graph shown. Since we have $2n$ steps in total and now we have $n+1$ up then we got $n-1$ right steps. Due to this reason, we reach at $(n-1, n+1)$ in the end. Because every monotonic path in the $(n - 1) \\times (n + 1)$ grid meets the higher diagonal, and because the reflection process is reversible, the reflection is therefore a bijection between bad paths in the original grid. Therefore, for the bad paths we got\n",
    "$$\n",
    "\\left(\\begin{array}{c}\n",
    "n-1+n+1 \\\\\n",
    "n-1\n",
    "\\end{array}\\right)=\\left(\\begin{array}{c}\n",
    "2 n \\\\\n",
    "n-1\n",
    "\\end{array}\\right)=\\left(\\begin{array}{c}\n",
    "2 n \\\\\n",
    "n+1\n",
    "\\end{array}\\right)\n",
    "$$\n",
    "And the valid paths of the Catalan paths are\n",
    "$$\n",
    "C_n=\\left(\\begin{array}{c}\n",
    "2 n \\\\\n",
    "n\n",
    "\\end{array}\\right)-\\left(\\begin{array}{c}\n",
    "2 n \\\\\n",
    "n+1\n",
    "\\end{array}\\right)=\\frac{1}{n+1}\\left(\\begin{array}{c}\n",
    "2 n \\\\\n",
    "n\n",
    "\\end{array}\\right)\n",
    "$$"
   ]
  },
  {
   "cell_type": "markdown",
   "metadata": {},
   "source": [
    "<a id=\"Parentheses\"></a>\n",
    "##  Well-formed parentheses expressions\n",
    "\n",
    "It can be shown that $c_n$ counts the number of expressions containing $n$ pairs of parentheses which are <i>correctly matched</i>. For the first values we obtain\n",
    "$$\n",
    "\\begin{array}{r c c c c c}\n",
    "n=1: & ()   &       &     &     &      \\\\\n",
    "n=2: & (()) & ()()  &     &     &      \\\\\n",
    "n=3: & ((())) & (())()  &  ()(())    &  ()()()   &  (()())    \\\\\n",
    "\\end{array}\n",
    "$$"
   ]
  },
  {
   "cell_type": "markdown",
   "metadata": {},
   "source": [
    "<div markdown=1 class=\"DoIt\"> \n",
    "1. Write a recursive function `Parentheses(n)` which returns the list of all well-formed parentheses expressions with $n$ pairs of parentheses.\n",
    "2. Check for different values that the list has length $c_n$."
   ]
  },
  {
   "cell_type": "markdown",
   "metadata": {},
   "source": [
    "<div markdown=1 class=\"Answers\"> 6.2.1\n",
    "\n",
    "We can use the model above, `Path to Triangle` in order to solve this problem. We can consider `(` as a step in the North direction and `)` as a step in the East direction. Then in this way We transfer the problem `Parentheses(n)` to the problem `Paths(n, n)`. Therefore, we can apply the similar method to solve this problem."
   ]
  },
  {
   "cell_type": "code",
   "execution_count": 39,
   "metadata": {
    "ExecuteTime": {
     "end_time": "2023-01-19T14:24:30.786544Z",
     "start_time": "2023-01-19T14:24:30.649431Z"
    }
   },
   "outputs": [
    {
     "name": "stdout",
     "output_type": "stream",
     "text": [
      "--------- Question 6.2.1 ----------\n",
      "For n = 1: (), length:1\n",
      "For n = 2: (()), ()(), length:2\n",
      "For n = 3: ((())), (()()), (())(), ()(()), ()()(), length:5\n",
      "For n = 4: (((()))), ((()())), ((())()), ((()))(), (()(())), (()()()), (()())(), (())(()), (())()(), ()((())), ()(()()), ()(())(), ()()(()), ()()()(), length:14\n",
      "For n = 5: ((((())))), (((()()))), (((())())), (((()))()), (((())))(), ((()(()))), ((()()())), ((()())()), ((()()))(), ((())(())), ((())()()), ((())())(), ((()))(()), ((()))()(), (()((()))), (()(()())), (()(())()), (()(()))(), (()()(())), (()()()()), (()()())(), (()())(()), (()())()(), (())((())), (())(()()), (())(())(), (())()(()), (())()()(), ()(((()))), ()((()())), ()((())()), ()((()))(), ()(()(())), ()(()()()), ()(()())(), ()(())(()), ()(())()(), ()()((())), ()()(()()), ()()(())(), ()()()(()), ()()()()(), length:42\n",
      "--------- Test for Calatan Number ----------\n",
      "For n =  1 the number of parentheses is 1\n",
      "For n =  2 the number of parentheses is 2\n",
      "For n =  3 the number of parentheses is 5\n",
      "For n =  4 the number of parentheses is 14\n",
      "For n =  5 the number of parentheses is 42\n",
      "For n =  6 the number of parentheses is 132\n",
      "For n =  7 the number of parentheses is 429\n",
      "For n =  8 the number of parentheses is 1430\n",
      "For n =  9 the number of parentheses is 4862\n",
      "For n =  10 the number of parentheses is 16796\n"
     ]
    }
   ],
   "source": [
    "# Implement the similar method with the function Path\n",
    "def Parentheses(n):\n",
    "    res = [['(']]\n",
    "    open_count = [[1]]\n",
    "    close_count = [[0]]\n",
    "    for i in range(1, 2 * n):\n",
    "        res.append([])\n",
    "        open_count.append([])\n",
    "        close_count.append([])\n",
    "        for j in range(len(res[i - 1])):\n",
    "            curr_str = res[i - 1][j]\n",
    "            if open_count[i - 1][j] < n:\n",
    "                res[i].append(curr_str + '(')\n",
    "                open_count[i].append(open_count[i - 1][j] + 1)\n",
    "                close_count[i].append(close_count[i - 1][j])\n",
    "            if close_count[i - 1][j] < open_count[i - 1][j]:\n",
    "                res[i].append(curr_str + ')')\n",
    "                open_count[i].append(open_count[i - 1][j])\n",
    "                close_count[i].append(close_count[i - 1][j] + 1)\n",
    "\n",
    "    return res[-1]\n",
    "\n",
    "\n",
    "print(\"--------- Question 6.2.1 ----------\")\n",
    "for i in range(1, 6):\n",
    "    res = Parentheses(i)\n",
    "    print(\"For n = \" + str(i) + \": \" + \", \".join(res) + \", length:\" +\n",
    "          str(len(res)))\n",
    "\n",
    "print(\"--------- Test for Calatan Number ----------\")\n",
    "for i in range(1, 11):\n",
    "    print(\"For n = \", i, \"the number of parentheses is\", len(Parentheses(i)))"
   ]
  },
  {
   "cell_type": "markdown",
   "metadata": {},
   "source": [
    "<div markdown=1 class=\"DoIt\"> **(Theory)** Prove that the number of well-formed parentheses expressions is counted by Catalan numbers."
   ]
  },
  {
   "cell_type": "markdown",
   "metadata": {
    "ExecuteTime": {
     "end_time": "2023-01-06T22:09:41.994437Z",
     "start_time": "2023-01-06T22:09:41.980563Z"
    }
   },
   "source": [
    "<div markdown=1 class=\"Answers\"> 6.2.2\n",
    "\n",
    "As we mentioned above, the Well-formed parentheses expressions `Parentheses(k)` is exactly the same in the Paths on triangle problem from $(0,0)$ to $(k,k)$, `Paths(k,k)`. \n",
    "\n",
    "We can consider `(` as a step in the North direction and `)` as a step in the East direction. For every well-formed parentheses expression, we start from `(`, and the condition for an well-formed parentheses is at any point, the number of `(` is larger than `)`. For example, `()((()))`, we can see that at any index of this expression, the number of `(` before the index is larger than `)`. These conditions correspond to the condition in the Paths on triangle model that the first step we go up, and the steps in the North direction is always larger than the steps in the East direction otherwise we are out of the triangle board. From $(0,0)$ to $(k,k)$, we has the same number of steps in the North and East direction which is the same that we have same amount of `(` and `)`. Therefore we prove that `Parentheses(k)` is counted by Catalan numbers.\n",
    "\n",
    "<hr>\n",
    "\n",
    "Or we explain in this way. We have $p(0) = 1$ as there is only one way to arrange no parentheses and $p(1)= 1$. \n",
    "\n",
    "For $n \\geq 2$, we can consider the well-formed parentheses expression as two part, `(part1)part2` where part 1 and part 2 are splited by a pair of racket. Then we assume part 1 has $k$ paris of parentheses and part 2 has $n-1-k$ paris of parentheses. Since $k \\in [0, n-1]$. Therefore we have the expression\n",
    "$$\n",
    "p_{n}=\\mathcal\\sum_{k=0}^{n-1} p_{k}p_{n-1-k}\n",
    "$$\n",
    "This agrees with the formula of the catalan number."
   ]
  },
  {
   "cell_type": "markdown",
   "metadata": {},
   "source": [
    "<a id=\"Trees\"></a>\n",
    "## Binary trees\n",
    "\n",
    "A <i>binary tree</i> is a tree in which every internal node (in grey in above pictures) has exactly two children. Leaves (in green) have no children. The **size** of a binary tree is its number of internal nodes. There is one binary tree of size $1$, and two binary trees of size $2$, five binary trees of size $3$:\n",
    "<br>\n",
    "<img src=\"./figures/BinaryTree.jpg\" style=\"width: 700px;\"/>\n",
    "\n",
    "Let $t_n$ be the number of binary trees of size $n$, by convention we put $t_0=1$ (this corresponds to a leaf without any internal node)."
   ]
  },
  {
   "cell_type": "markdown",
   "metadata": {},
   "source": [
    "<div markdown=1 class=\"DoIt\"> \n",
    "**(Theory)** Prove that $t_n$ is the $n$-th Catalan number."
   ]
  },
  {
   "cell_type": "markdown",
   "metadata": {},
   "source": [
    "<div markdown=1 class=\"Answers\"> 6.3\n",
    "\n",
    "For the Catalan numbers, we have the definition that\n",
    "\\begin{align*}\n",
    "c_0&=1\\\\\n",
    "c_1&=1\\\\\n",
    "c_n&=\\sum_{k=0}^{n-1} c_kc_{n-1-k}=c_0c_{n-1}+c_1c_{n-2}+\\dots +c_{n-1}c_0 \\qquad (\\text{ for }n\\geq 2). \n",
    "\\end{align*}\n",
    "\n",
    "Which can also be rewritten as:\n",
    "\\begin{align*}\n",
    "c_0&=1\\\\\n",
    "c_1&=1\\\\\n",
    "c_{n+1}&=\\sum_{k=0}^{n} c_kc_{n-k}\n",
    "\\end{align*}\n",
    "\n",
    "For $t_1 = 1$ we have zero parent so there only one case. Then we consider more general cases for $n \\geq 2$. We imagine a tree $t$ with $n+1$ nodes has one root with two subtrees as children $t_1$ and $t_2$. Since the root of $t$ is a parent node, $t_1$ and $t_2$ must have $n$ parent nodes together (i.e the sum of nodes for $t_1$ and $t_2$ is n). A subtree $t_1$ or $t_2$ can be empty. Therefore the ways of organize $t_1$ which k nodes is $T_{k} T_{n-k}$. Then we have \n",
    "$$\n",
    "\\sum_{i=0}^n T_i T_{n-i}\n",
    "$$\n",
    "Since $i \\in [0,n]$. So we finish the prove that the $n$-th Catalan number."
   ]
  }
 ],
 "metadata": {
  "celltoolbar": "无",
  "kernelspec": {
   "display_name": "Python 3 (ipykernel)",
   "language": "python",
   "name": "python3"
  },
  "language_info": {
   "codemirror_mode": {
    "name": "ipython",
    "version": 3
   },
   "file_extension": ".py",
   "mimetype": "text/x-python",
   "name": "python",
   "nbconvert_exporter": "python",
   "pygments_lexer": "ipython3",
   "version": "3.9.7"
  },
  "toc": {
   "base_numbering": 1,
   "nav_menu": {},
   "number_sections": true,
   "sideBar": true,
   "skip_h1_title": false,
   "title_cell": "Table of Contents",
   "title_sidebar": "Contents",
   "toc_cell": false,
   "toc_position": {},
   "toc_section_display": true,
   "toc_window_display": false
  },
  "varInspector": {
   "cols": {
    "lenName": 16,
    "lenType": 16,
    "lenVar": 40
   },
   "kernels_config": {
    "python": {
     "delete_cmd_postfix": "",
     "delete_cmd_prefix": "del ",
     "library": "var_list.py",
     "varRefreshCmd": "print(var_dic_list())"
    },
    "r": {
     "delete_cmd_postfix": ") ",
     "delete_cmd_prefix": "rm(",
     "library": "var_list.r",
     "varRefreshCmd": "cat(var_dic_list()) "
    }
   },
   "types_to_exclude": [
    "module",
    "function",
    "builtin_function_or_method",
    "instance",
    "_Feature"
   ],
   "window_display": false
  },
  "vscode": {
   "interpreter": {
    "hash": "40d3a090f54c6569ab1632332b64b2c03c39dcf918b08424e98f38b5ae0af88f"
   }
  }
 },
 "nbformat": 4,
 "nbformat_minor": 4
}
